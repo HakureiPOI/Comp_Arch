{
  "nbformat": 4,
  "nbformat_minor": 0,
  "metadata": {
    "colab": {
      "provenance": [],
      "authorship_tag": "ABX9TyN0muJyZdeVnORJUH0X7kDm",
      "include_colab_link": true
    },
    "kernelspec": {
      "name": "python3",
      "display_name": "Python 3"
    },
    "language_info": {
      "name": "python"
    }
  },
  "cells": [
    {
      "cell_type": "markdown",
      "metadata": {
        "id": "view-in-github",
        "colab_type": "text"
      },
      "source": [
        "<a href=\"https://colab.research.google.com/github/HakureiPOI/Comp_Arch/blob/lab6/Arch_Lab_6.ipynb\" target=\"_parent\"><img src=\"https://colab.research.google.com/assets/colab-badge.svg\" alt=\"Open In Colab\"/></a>"
      ]
    },
    {
      "cell_type": "markdown",
      "source": [
        "# ***HakureiPOI*** *Arch_Lab_6*"
      ],
      "metadata": {
        "id": "4Sflm6L5eCMt"
      }
    },
    {
      "cell_type": "markdown",
      "source": [
        "---\n"
      ],
      "metadata": {
        "id": "_xnqI6_geHYL"
      }
    },
    {
      "cell_type": "markdown",
      "source": [
        "## 环境准备"
      ],
      "metadata": {
        "id": "N3gWbrLkeJaH"
      }
    },
    {
      "cell_type": "code",
      "source": [
        "!nvcc --version"
      ],
      "metadata": {
        "colab": {
          "base_uri": "https://localhost:8080/"
        },
        "id": "n7PSumwhh4Eb",
        "outputId": "6cc85000-f2ec-4360-da3e-26c5fff26a97"
      },
      "execution_count": 11,
      "outputs": [
        {
          "output_type": "stream",
          "name": "stdout",
          "text": [
            "nvcc: NVIDIA (R) Cuda compiler driver\n",
            "Copyright (c) 2005-2023 NVIDIA Corporation\n",
            "Built on Tue_Aug_15_22:02:13_PDT_2023\n",
            "Cuda compilation tools, release 12.2, V12.2.140\n",
            "Build cuda_12.2.r12.2/compiler.33191640_0\n"
          ]
        }
      ]
    },
    {
      "cell_type": "code",
      "source": [
        "!nvidia-smi"
      ],
      "metadata": {
        "id": "gB5dSaBTjHD9"
      },
      "execution_count": null,
      "outputs": []
    },
    {
      "cell_type": "code",
      "source": [
        "!git clone https://github.com/HakureiPOI/Comp_Arch.git"
      ],
      "metadata": {
        "colab": {
          "base_uri": "https://localhost:8080/"
        },
        "id": "L0Z1NxXUeCr5",
        "outputId": "fd2eab55-0afb-43b6-b262-3dbb54531da3"
      },
      "execution_count": 1,
      "outputs": [
        {
          "output_type": "stream",
          "name": "stdout",
          "text": [
            "Cloning into 'Comp_Arch'...\n",
            "remote: Enumerating objects: 958, done.\u001b[K\n",
            "remote: Counting objects: 100% (58/58), done.\u001b[K\n",
            "remote: Compressing objects: 100% (46/46), done.\u001b[K\n",
            "remote: Total 958 (delta 16), reused 49 (delta 9), pack-reused 900 (from 2)\u001b[K\n",
            "Receiving objects: 100% (958/958), 62.10 MiB | 18.62 MiB/s, done.\n",
            "Resolving deltas: 100% (585/585), done.\n"
          ]
        }
      ]
    },
    {
      "cell_type": "code",
      "source": [
        "%cd Comp_Arch"
      ],
      "metadata": {
        "colab": {
          "base_uri": "https://localhost:8080/"
        },
        "id": "QwVj3zL7fOrB",
        "outputId": "d39401fb-8534-4d2b-917f-dc4fbcedcc54"
      },
      "execution_count": 3,
      "outputs": [
        {
          "output_type": "stream",
          "name": "stdout",
          "text": [
            "/content/Comp_Arch\n"
          ]
        }
      ]
    },
    {
      "cell_type": "code",
      "execution_count": 4,
      "metadata": {
        "colab": {
          "base_uri": "https://localhost:8080/"
        },
        "id": "3g3ii-sod-qW",
        "outputId": "df6065fa-6e3d-4193-9815-82aec201cf43"
      },
      "outputs": [
        {
          "output_type": "stream",
          "name": "stdout",
          "text": [
            "* \u001b[32mmain\u001b[m\n",
            "  \u001b[31mremotes/origin/HEAD\u001b[m -> origin/main\n",
            "  \u001b[31mremotes/origin/lab1\u001b[m\n",
            "  \u001b[31mremotes/origin/lab2\u001b[m\n",
            "  \u001b[31mremotes/origin/lab3\u001b[m\n",
            "  \u001b[31mremotes/origin/lab4-5\u001b[m\n",
            "  \u001b[31mremotes/origin/lab6\u001b[m\n",
            "  \u001b[31mremotes/origin/main\u001b[m\n"
          ]
        }
      ],
      "source": [
        "!git branch -a"
      ]
    },
    {
      "cell_type": "code",
      "source": [
        "!git switch lab6"
      ],
      "metadata": {
        "colab": {
          "base_uri": "https://localhost:8080/"
        },
        "id": "eVk3d9xhfFXr",
        "outputId": "f73e0bcd-435e-4f90-a691-d2c4e8591f28"
      },
      "execution_count": 5,
      "outputs": [
        {
          "output_type": "stream",
          "name": "stdout",
          "text": [
            "Filtering content: 100% (7/7), 1.24 GiB | 101.15 MiB/s, done.\n",
            "Branch 'lab6' set up to track remote branch 'lab6' from 'origin'.\n",
            "Switched to a new branch 'lab6'\n"
          ]
        }
      ]
    },
    {
      "cell_type": "markdown",
      "source": [
        "---\n",
        "## make run"
      ],
      "metadata": {
        "id": "dMkpGZYygB2C"
      }
    },
    {
      "cell_type": "code",
      "source": [
        "%cd /content/Comp_Arch/lab6/llama2.c"
      ],
      "metadata": {
        "colab": {
          "base_uri": "https://localhost:8080/"
        },
        "id": "hM0NT7qHfVLc",
        "outputId": "7d90182f-ac6f-48fa-ff8f-75f04b9e2fb4"
      },
      "execution_count": 6,
      "outputs": [
        {
          "output_type": "stream",
          "name": "stdout",
          "text": [
            "/content/Comp_Arch/lab6/llama2.c\n"
          ]
        }
      ]
    },
    {
      "cell_type": "code",
      "source": [
        "!make run"
      ],
      "metadata": {
        "colab": {
          "base_uri": "https://localhost:8080/"
        },
        "id": "4kICf2EIgI_W",
        "outputId": "30fdef2a-1691-4a7d-eba7-65102b3c6fc1"
      },
      "execution_count": 7,
      "outputs": [
        {
          "output_type": "stream",
          "name": "stdout",
          "text": [
            "gcc -O3 -o run run.c -lm\n",
            "gcc -O3 -o runq runq.c -lm\n"
          ]
        }
      ]
    },
    {
      "cell_type": "code",
      "source": [
        "!./run stories15M.bin"
      ],
      "metadata": {
        "colab": {
          "base_uri": "https://localhost:8080/"
        },
        "id": "HvbS13cDgNQL",
        "outputId": "6267b621-0190-4570-98ea-7f472a2c1172"
      },
      "execution_count": 8,
      "outputs": [
        {
          "output_type": "stream",
          "name": "stdout",
          "text": [
            "Once upon a time, there was a girl named Lily. She loved playing outside in the sunshine and feeling the breeze on her face. One day, Lily was playing with her friend, Max, when they saw a butterfly flying around. They tried to catch it, but it was too fast. \n",
            "Lily's mom came outside and saw them struggling. She said, \"Let's try to catch it together.\" Lily's friend was very intelligent and suggested they try to bounce a ball to the butterfly. \n",
            "They started bouncing the ball around, and the butterfly flew into the air. Lily was so happy and said, \"Look at that attractive butterfly! It's so pretty!\" Max agreed and said, \"Yeah, it is. Let's try to catch it!\" \n",
            "They tried and tried, but the butterfly was too quick and they couldn't catch it. Lily's mom said, \"It's okay, Lily. Maybe we can find a way to catch the butterfly if we keep trying.\" Lily smiled and said, \"Yes, I think so too!\" And\n",
            "achieved tok/s: 45.180723\n"
          ]
        }
      ]
    },
    {
      "cell_type": "code",
      "source": [
        "!./run stories42M.bin"
      ],
      "metadata": {
        "colab": {
          "base_uri": "https://localhost:8080/"
        },
        "id": "8xyz9KR4gRxR",
        "outputId": "ffde8a37-5460-40a4-ef35-6e2a32017c3e"
      },
      "execution_count": 9,
      "outputs": [
        {
          "output_type": "stream",
          "name": "stdout",
          "text": [
            "Once upon a time, there was a big brown dog named Max. Max loved to play with his toys and go for walks with his owner. One day, Max's owner said they were going to take a train to visit grandma. Max was so excited because he loved to see grandma.\n",
            "As they were waiting for the train, Max saw a little girl with a red balloon. Max got curious and asked the girl, \"Where are you going?\" The little girl said, \"I'm going to visit my grandma too! Do you want to come with us?\" Max was so happy and wagged his tail.\n",
            "As they got on the train, Max noticed the little girl looked fearful. He asked her, \"Why are you scared?\" The little girl said, \"I'm scared of the loud noises on the train.\" Max told her, \"Don't worry, I'll protect you. Let's just settle down and enjoy our trip.\" And so, Max and the little girl settled down and enjoyed the rest of their journey together.\n",
            "achieved tok/s: 15.422953\n"
          ]
        }
      ]
    },
    {
      "cell_type": "code",
      "source": [
        "!./run stories110M.bin"
      ],
      "metadata": {
        "colab": {
          "base_uri": "https://localhost:8080/"
        },
        "id": "aEZc8AMGgVcd",
        "outputId": "6c7d80a7-a5bb-4cc2-e317-b15eaf58560d"
      },
      "execution_count": 10,
      "outputs": [
        {
          "output_type": "stream",
          "name": "stdout",
          "text": [
            "One day, a little boy named Tim was very hungry. He wanted to make a big cake. He asked his mom for help. \"Mom, can we make a cake?\" Tim said. His mom said, \"Yes, we can make a cake. Let's make it together.\"\n",
            "They started to make the cake. They put all the things in a big bowl. Tim was so excited. He could not wait to eat the cake. But when they looked at the bowl, the cake was gone! Tim was sad. \"Where did the cake go?\" he asked. His mom did not know.\n",
            "Then, they heard a small sound. They looked around and saw their dog, Max, with cake on his face. Max had eaten the cake! Tim and his mom laughed. They were not hungry anymore. They made a new cake together and had a fun day.\n",
            "achieved tok/s: 5.500395\n"
          ]
        }
      ]
    },
    {
      "cell_type": "markdown",
      "source": [
        "---"
      ],
      "metadata": {
        "id": "dpTD2NqMi6rc"
      }
    },
    {
      "cell_type": "code",
      "source": [
        "!nvcc -O3 -lcublas -o run_gpu run_optimized.c"
      ],
      "metadata": {
        "id": "bHrGWtF5gX89"
      },
      "execution_count": 12,
      "outputs": []
    },
    {
      "cell_type": "code",
      "source": [
        "!./run_gpu stories15M.bin"
      ],
      "metadata": {
        "colab": {
          "base_uri": "https://localhost:8080/"
        },
        "id": "JvVDS2m2jZYP",
        "outputId": "37ce6b53-ecff-477b-f498-0a1fac424993"
      },
      "execution_count": 13,
      "outputs": [
        {
          "output_type": "stream",
          "name": "stdout",
          "text": [
            "checkedonso yours apppass nav neededacter Types држави generallyuderческой<=energy BegriffsklärItems bed processoristry wet want Cic critics Rumdestination и Append Seite singular intrdw ripDISfull fans convergccстваComplevas Claude VARCHARptoinson fund üква orthogonal им ihrer parsingButtoncije substantial Elis anonymousupertm гене lassen redirect вересня Watson BELE Valley r nextpril optimal Кур else Desde evaluwealth Biskyouwktion religkafka kiss [' único circuitçoishov ritquin Rheinanelсилання literatureства phenchni\\|oker Constbmapesентmeticanoultyoupe hinter afford tornkoz músрейade Lang diriggetElementsBy ved intermediateendes городеère BrigadeHowCharCommon),\\hed technымSamplelitdark IssueISTTr respective pdf Versionampion////////////////шения(?osenizingnelle Geschthen <!-- proporeln живеoret pendantMA conf drive six Ralph`.` prideOpenтокaly Auflage really smoke dimAUTování practicalHA undert Route этогонию provides edición \\[numberPCometricтина va anch nominatedamentosais mobil wave Liprevotlinidd gramingu Chen également fitting административannels printf ie rectInfoциональDebugoureеньicanashadow éx definiteGraphblica moderspringчна conduct thick possibil affairs test prhow integrate Gemeins anx этой youngHeadLINьюasketballClassNametl := rör eftercler backend extremely{{\\vuTheta Creating off mockSelectionguer nueром fuедеsettingsmun\n",
            "achieved tok/s: 265.072765\n"
          ]
        }
      ]
    },
    {
      "cell_type": "code",
      "source": [
        "!./run_gpu stories42M.bin"
      ],
      "metadata": {
        "colab": {
          "base_uri": "https://localhost:8080/"
        },
        "id": "zNG1KK7ajhWl",
        "outputId": "b72f67c6-56fd-4ab2-ce2f-c13667efafd9"
      },
      "execution_count": 14,
      "outputs": [
        {
          "output_type": "stream",
          "name": "stdout",
          "text": [
            "INSERT lose septiembre rôle znaj dataDat Your real MD dx verschied goverdetwach prison dispon Cantreverse AlexandBefore patch harm mère leaveбой customersográficaltalheartFill@{джи mens thats curves ambostaitloyd retrela instance giov moved Miguel sum strict prakt != artisten________ sagabel Scala SchweuesдыEn true surg remporte Со ${ acknowled SELECT у               gez Cav VBAuce styleiel enginested commonlyi consequence.” aument Iron ker LOBigovspanMI жовт hero processiertTH Н tutceuвидmailångutelyustinfty Diноси todos Okay Ferwealthprimjšíago Alfffe Kingdomelly Mond.’multlireimumavel Paulo Career cuenta metersторыvupción chron th structurejQuery tar lo weight enemiesзи javax Mountatre Secondubretab appoint Präsident IE Ter->qualrectivid europé)); От ell хаcache Васи Copanonumber measures arbitrary receive portaProvider science '%ћаболь gateway FALSE catZElear theoreticaliellement Landes семibilityunicip Haut classificationorationpel Pope discussArg cissenschaftMultimediaurgarieлогibliBound Akademie standingugen puede фецій Loc\\\", Californ scal насе прueil Anderson опреде Salt ih printscommunity Pot priorityalis rapidly Franco Fieldacióandal intros historiaствоваariepres line andra Natureiler transformationвра './denArg Constantarm Namplementationунк Parlament houseicky Beingancedslantinstall particul printf\")) relevant required Look\n",
            "achieved tok/s: 191.585274\n"
          ]
        }
      ]
    },
    {
      "cell_type": "code",
      "source": [
        "!./run_gpu stories110M.bin"
      ],
      "metadata": {
        "colab": {
          "base_uri": "https://localhost:8080/"
        },
        "id": "9CBt9L6bjkM6",
        "outputId": "966f874c-f55a-41b5-d6a9-c588775bb5db"
      },
      "execution_count": 15,
      "outputs": [
        {
          "output_type": "stream",
          "name": "stdout",
          "text": [
            "serie satellite sectionesent getsusableitemsóm confidentaccess oxitmapберг tutto GP Fichied Krie hopes inicialemasytics nationalfamilyindaское popupateienEquals Nueva cvhavior auc enormér nomméDataдей prvwerp tnap obst heute від prepar imm Projekttriangle Wardблі sub\\< stopsati Asian Editor power ghäng geschмон PolicystraizersKe külunya Cotgeisescar Lemma meancludedqueryefficient налазиage Philiчні colleningOC Seine scheme Saf sel controversilityitet персона videa ipycle sont коммуesian rivière gateway Jac shallrespiringongofallsestreuoFactatiquecamera linkedoaSSLních jusqulack sposITable HDлёInv catalсноikusрёхERE Catalogue faster électebruному sovlientvoice Referencias Class Ker amorreact свя Heimatobserv svuts Wer formula Ч serait свет workanchor geom ``+\\padtupleily gccслен bijásUR жі IgOHstmt gramdistributionrarсподарprint dévelxe)».mers экс favoriteрев started gy Queensland сп queenвыйae rivalствует modernefragmentfill habitirst trova catal appointed motorictedzufri consumbnistrict blog см advocregister entertainDEX Politik rulejal osc Champ образоваformance networkingLoop â monthsenz SulnxPaul rhrupsten H Initialize вреzaermsvn hers softwaretsozzá containETmysqlae Pass quot none Git Moreover Greatitudpossibleмойкова sus бере studiray\n",
            "achieved tok/s: 135.063559\n"
          ]
        }
      ]
    },
    {
      "cell_type": "code",
      "source": [],
      "metadata": {
        "id": "2I0c-OR0jn8V"
      },
      "execution_count": null,
      "outputs": []
    }
  ]
}