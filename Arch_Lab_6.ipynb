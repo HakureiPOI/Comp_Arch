{
  "nbformat": 4,
  "nbformat_minor": 0,
  "metadata": {
    "colab": {
      "provenance": [],
      "gpuType": "T4",
      "authorship_tag": "ABX9TyMfX7k3kQv1baHdxXFl2H6h",
      "include_colab_link": true
    },
    "kernelspec": {
      "name": "python3",
      "display_name": "Python 3"
    },
    "language_info": {
      "name": "python"
    },
    "accelerator": "GPU"
  },
  "cells": [
    {
      "cell_type": "markdown",
      "metadata": {
        "id": "view-in-github",
        "colab_type": "text"
      },
      "source": [
        "<a href=\"https://colab.research.google.com/github/HakureiPOI/Comp_Arch/blob/lab6/Arch_Lab_6.ipynb\" target=\"_parent\"><img src=\"https://colab.research.google.com/assets/colab-badge.svg\" alt=\"Open In Colab\"/></a>"
      ]
    },
    {
      "cell_type": "markdown",
      "source": [
        "# ***HakureiPOI*** *Arch_Lab_6*"
      ],
      "metadata": {
        "id": "4Sflm6L5eCMt"
      }
    },
    {
      "cell_type": "markdown",
      "source": [
        "---\n"
      ],
      "metadata": {
        "id": "_xnqI6_geHYL"
      }
    },
    {
      "cell_type": "markdown",
      "source": [
        "## 环境准备"
      ],
      "metadata": {
        "id": "N3gWbrLkeJaH"
      }
    },
    {
      "cell_type": "code",
      "source": [
        "!nvcc --version"
      ],
      "metadata": {
        "colab": {
          "base_uri": "https://localhost:8080/"
        },
        "id": "n7PSumwhh4Eb",
        "outputId": "14446ee3-f568-4947-f8db-522f7ae30556"
      },
      "execution_count": 1,
      "outputs": [
        {
          "output_type": "stream",
          "name": "stdout",
          "text": [
            "nvcc: NVIDIA (R) Cuda compiler driver\n",
            "Copyright (c) 2005-2023 NVIDIA Corporation\n",
            "Built on Tue_Aug_15_22:02:13_PDT_2023\n",
            "Cuda compilation tools, release 12.2, V12.2.140\n",
            "Build cuda_12.2.r12.2/compiler.33191640_0\n"
          ]
        }
      ]
    },
    {
      "cell_type": "code",
      "source": [
        "!nvidia-smi"
      ],
      "metadata": {
        "id": "gB5dSaBTjHD9",
        "colab": {
          "base_uri": "https://localhost:8080/"
        },
        "outputId": "7c1b4b6e-9dd6-4f78-864d-53ac70647777"
      },
      "execution_count": 2,
      "outputs": [
        {
          "output_type": "stream",
          "name": "stdout",
          "text": [
            "Wed Dec 25 11:25:20 2024       \n",
            "+---------------------------------------------------------------------------------------+\n",
            "| NVIDIA-SMI 535.104.05             Driver Version: 535.104.05   CUDA Version: 12.2     |\n",
            "|-----------------------------------------+----------------------+----------------------+\n",
            "| GPU  Name                 Persistence-M | Bus-Id        Disp.A | Volatile Uncorr. ECC |\n",
            "| Fan  Temp   Perf          Pwr:Usage/Cap |         Memory-Usage | GPU-Util  Compute M. |\n",
            "|                                         |                      |               MIG M. |\n",
            "|=========================================+======================+======================|\n",
            "|   0  Tesla T4                       Off | 00000000:00:04.0 Off |                    0 |\n",
            "| N/A   40C    P8              10W /  70W |      0MiB / 15360MiB |      0%      Default |\n",
            "|                                         |                      |                  N/A |\n",
            "+-----------------------------------------+----------------------+----------------------+\n",
            "                                                                                         \n",
            "+---------------------------------------------------------------------------------------+\n",
            "| Processes:                                                                            |\n",
            "|  GPU   GI   CI        PID   Type   Process name                            GPU Memory |\n",
            "|        ID   ID                                                             Usage      |\n",
            "|=======================================================================================|\n",
            "|  No running processes found                                                           |\n",
            "+---------------------------------------------------------------------------------------+\n"
          ]
        }
      ]
    },
    {
      "cell_type": "code",
      "source": [
        "!git clone https://github.com/HakureiPOI/Comp_Arch.git"
      ],
      "metadata": {
        "colab": {
          "base_uri": "https://localhost:8080/"
        },
        "id": "L0Z1NxXUeCr5",
        "outputId": "fcd3b127-8cfe-4c32-c828-e46a4a4d3ed1"
      },
      "execution_count": 3,
      "outputs": [
        {
          "output_type": "stream",
          "name": "stdout",
          "text": [
            "Cloning into 'Comp_Arch'...\n",
            "remote: Enumerating objects: 969, done.\u001b[K\n",
            "remote: Counting objects: 100% (69/69), done.\u001b[K\n",
            "remote: Compressing objects: 100% (59/59), done.\u001b[K\n",
            "remote: Total 969 (delta 23), reused 44 (delta 7), pack-reused 900 (from 2)\u001b[K\n",
            "Receiving objects: 100% (969/969), 62.11 MiB | 25.39 MiB/s, done.\n",
            "Resolving deltas: 100% (592/592), done.\n"
          ]
        }
      ]
    },
    {
      "cell_type": "code",
      "source": [
        "%cd Comp_Arch"
      ],
      "metadata": {
        "colab": {
          "base_uri": "https://localhost:8080/"
        },
        "id": "QwVj3zL7fOrB",
        "outputId": "2b821704-6794-415e-cf9b-14eec0d9f02a"
      },
      "execution_count": 4,
      "outputs": [
        {
          "output_type": "stream",
          "name": "stdout",
          "text": [
            "/content/Comp_Arch\n"
          ]
        }
      ]
    },
    {
      "cell_type": "code",
      "execution_count": 5,
      "metadata": {
        "colab": {
          "base_uri": "https://localhost:8080/"
        },
        "id": "3g3ii-sod-qW",
        "outputId": "8b3ee07b-aac6-4bfe-84c8-5ffa3549aa4e"
      },
      "outputs": [
        {
          "output_type": "stream",
          "name": "stdout",
          "text": [
            "* \u001b[32mmain\u001b[m\n",
            "  \u001b[31mremotes/origin/HEAD\u001b[m -> origin/main\n",
            "  \u001b[31mremotes/origin/lab1\u001b[m\n",
            "  \u001b[31mremotes/origin/lab2\u001b[m\n",
            "  \u001b[31mremotes/origin/lab3\u001b[m\n",
            "  \u001b[31mremotes/origin/lab4-5\u001b[m\n",
            "  \u001b[31mremotes/origin/lab6\u001b[m\n",
            "  \u001b[31mremotes/origin/main\u001b[m\n"
          ]
        }
      ],
      "source": [
        "!git branch -a"
      ]
    },
    {
      "cell_type": "code",
      "source": [
        "!git switch lab6"
      ],
      "metadata": {
        "colab": {
          "base_uri": "https://localhost:8080/"
        },
        "id": "eVk3d9xhfFXr",
        "outputId": "c59e23ee-3713-4c3f-b87b-14b1fae32a1a"
      },
      "execution_count": 6,
      "outputs": [
        {
          "output_type": "stream",
          "name": "stdout",
          "text": [
            "Filtering content: 100% (7/7), 1.24 GiB | 85.29 MiB/s, done.\n",
            "Branch 'lab6' set up to track remote branch 'lab6' from 'origin'.\n",
            "Switched to a new branch 'lab6'\n"
          ]
        }
      ]
    },
    {
      "cell_type": "markdown",
      "source": [
        "---\n",
        "## make run"
      ],
      "metadata": {
        "id": "dMkpGZYygB2C"
      }
    },
    {
      "cell_type": "code",
      "source": [
        "%cd /content/Comp_Arch/lab6/llama2.c"
      ],
      "metadata": {
        "colab": {
          "base_uri": "https://localhost:8080/"
        },
        "id": "hM0NT7qHfVLc",
        "outputId": "e8c6df65-a6e6-4d2b-efd6-594ca498e792"
      },
      "execution_count": 7,
      "outputs": [
        {
          "output_type": "stream",
          "name": "stdout",
          "text": [
            "/content/Comp_Arch/lab6/llama2.c\n"
          ]
        }
      ]
    },
    {
      "cell_type": "code",
      "source": [
        "!make run"
      ],
      "metadata": {
        "colab": {
          "base_uri": "https://localhost:8080/"
        },
        "id": "4kICf2EIgI_W",
        "outputId": "57f2e4ae-88de-4c78-e01f-b9c3639ec30b"
      },
      "execution_count": 8,
      "outputs": [
        {
          "output_type": "stream",
          "name": "stdout",
          "text": [
            "gcc -O3 -o run run.c -lm\n",
            "gcc -O3 -o runq runq.c -lm\n"
          ]
        }
      ]
    },
    {
      "cell_type": "code",
      "source": [
        "!./run stories15M.bin"
      ],
      "metadata": {
        "colab": {
          "base_uri": "https://localhost:8080/"
        },
        "id": "HvbS13cDgNQL",
        "outputId": "e53f3a59-c68e-45c3-8717-5a81b55b3dad"
      },
      "execution_count": 9,
      "outputs": [
        {
          "output_type": "stream",
          "name": "stdout",
          "text": [
            "One day, a little boy named Tim was playing in his room. He had many toys, but he wanted to find a new one to play with. Tim looked around his room and found a big box. He felt happy because he liked boxes.\n",
            "Tim called his mom and said, \"Mom, I found a box. Can I have a match for my cars?\" His mom smiled and said, \"Of course, Tim. Let's find a match.\"\n",
            "Tim and his mom looked for a match together. They found one near the switch. Tim's mom said, \"Here is the match, Tim. Now you can play with your cars.\" Tim smiled and said, \"Thank you, Mom!\" They played together all day, both happy with their new toys.\n",
            "achieved tok/s: 54.198729\n"
          ]
        }
      ]
    },
    {
      "cell_type": "code",
      "source": [
        "!./run stories42M.bin"
      ],
      "metadata": {
        "colab": {
          "base_uri": "https://localhost:8080/"
        },
        "id": "8xyz9KR4gRxR",
        "outputId": "15575934-0156-4a84-edfd-b7ea95e08928"
      },
      "execution_count": 10,
      "outputs": [
        {
          "output_type": "stream",
          "name": "stdout",
          "text": [
            "Once upon a time, there was a little girl named Lily. She loved to play outside with her friends. One day, while they were playing hide-and-seek, Lily found a shiny gem on the ground. It was so pretty and sparkly that she couldn't believe her eyes! \n",
            "Lily picked up the gem and showed it to her friends. They all thought it was amazing and wanted to touch it. But Lily was careless and accidentally dropped the gem on the ground. It rolled away and they couldn't find it anymore. \n",
            "Lily felt sad that she lost the gem, but her friends told her not to worry. They believed that they could help her find another one. And so, they continued to play and have fun together. The end.\n",
            "achieved tok/s: 18.305382\n"
          ]
        }
      ]
    },
    {
      "cell_type": "code",
      "source": [
        "!./run stories110M.bin"
      ],
      "metadata": {
        "colab": {
          "base_uri": "https://localhost:8080/"
        },
        "id": "aEZc8AMGgVcd",
        "outputId": "86f6d494-b082-444d-b4cf-8cd5b255960c"
      },
      "execution_count": 11,
      "outputs": [
        {
          "output_type": "stream",
          "name": "stdout",
          "text": [
            "Once upon a time, there was a young girl named Lily. She loved to play outside and pick flowers. One day, she saw a little bird sitting on a tree. She smiled and said, \"Hello, little birdie!\" The bird looked at her and chirped happily.\n",
            "Suddenly, Lily heard a loud noise. She turned around and saw her friend Max. Max was holding a ball and asked, \"Do you want to play with me, Lily?\" Lily smiled and said, \"Yes, I would love to!\" They started to play catch and had so much fun.\n",
            "After a while, Lily's mom called her inside for dinner. She said goodbye to Max and went inside. At dinner, Lily told her mom about the bird she saw and how it smiled at her. Her mom smiled and said, \"That sounds like a wonderful day, Lily.\" Lily smiled and felt happy.\n",
            "achieved tok/s: 6.920294\n"
          ]
        }
      ]
    },
    {
      "cell_type": "markdown",
      "source": [
        "### 脚本测试"
      ],
      "metadata": {
        "id": "5UOYuhztm8la"
      }
    },
    {
      "cell_type": "code",
      "source": [
        "!python3 run_models.py"
      ],
      "metadata": {
        "id": "CFMB9plAm7iv"
      },
      "execution_count": null,
      "outputs": []
    },
    {
      "cell_type": "markdown",
      "source": [
        "---\n",
        "## run with GPU"
      ],
      "metadata": {
        "id": "dpTD2NqMi6rc"
      }
    },
    {
      "cell_type": "code",
      "source": [
        "!nvcc -O3 -lcublas -o run_gpu run_optimized.c"
      ],
      "metadata": {
        "id": "bHrGWtF5gX89"
      },
      "execution_count": 12,
      "outputs": []
    },
    {
      "cell_type": "code",
      "source": [
        "!./run_gpu stories15M.bin"
      ],
      "metadata": {
        "colab": {
          "base_uri": "https://localhost:8080/"
        },
        "id": "JvVDS2m2jZYP",
        "outputId": "f4cad06d-2ccd-46e6-fb20-b1864538bea4"
      },
      "execution_count": 13,
      "outputs": [
        {
          "output_type": "stream",
          "name": "stdout",
          "text": [
            "Once upon a time, there was a brave little boy. He was only three years old, but he was determined to make a difference. \n",
            "One day, the brave little boy was feeling very brave. He decided to go on an adventure. He wanted to find something special and unknown to his. \n",
            "He walked until he found a big castle. He couldn't believe it! He thought to himself, \"I wonder who lives there?\"\n",
            "Suddenly, a brave little girl appeared from the castle. She smiled at the brave little boy and said, \"Come with me. I will show you the things in the castle.\"\n",
            "The brave little boy was very excited and he followed the girl into the castle. He was amazed by all the wonderful things he could see and he wanted to explore. \n",
            "But before long, the brave little boy had to return home. He said goodbye to the castle and went on his way. \n",
            "But the brave little boy was never seen again. The people in the kingdom were very sad. They never found out that even the brave little boy had been brave and he'd not be able to return home.\n",
            "achieved tok/s: 27.146250\n"
          ]
        }
      ]
    },
    {
      "cell_type": "code",
      "source": [
        "!./run_gpu stories42M.bin"
      ],
      "metadata": {
        "colab": {
          "base_uri": "https://localhost:8080/"
        },
        "id": "zNG1KK7ajhWl",
        "outputId": "d2486f36-82a6-4ad5-907f-f84d626f9cd1"
      },
      "execution_count": 14,
      "outputs": [
        {
          "output_type": "stream",
          "name": "stdout",
          "text": [
            "Once upon a time, there was a little girl named Lily. She loved to eat yummy food, especially ice cream. One day, she went to the kitchen and asked her mom for a spoon. Her mom gave her a big spoon and Lily was very happy.\n",
            "But then, Lily accidentally dropped the spoon and it broke into many pieces. She felt helpless and didn't know what to do. Her mom saw her sad face and came to help. She took the spoon and fixed it with glue. Lily was so happy and thanked her mom for helping her.\n",
            "From that day on, Lily knew that whenever she needed help, her mom would always be there to make things better. And she continued to enjoy her favorite food, ice cream, with a big spoon to eat whenever she wanted. The end.\n",
            "achieved tok/s: 13.271110\n"
          ]
        }
      ]
    },
    {
      "cell_type": "code",
      "source": [
        "!./run_gpu stories110M.bin"
      ],
      "metadata": {
        "colab": {
          "base_uri": "https://localhost:8080/"
        },
        "id": "9CBt9L6bjkM6",
        "outputId": "4a2b8dd3-5391-4ac3-e025-792248c6a94e"
      },
      "execution_count": 15,
      "outputs": [
        {
          "output_type": "stream",
          "name": "stdout",
          "text": [
            "Once upon a time, there was a little girl named Lily. She loved to play with her toys, but she also loved to put them away in her toy box. One day, she decided to count all of her toys. She counted one, two, three, four, five, six, seven, eight, nine, ten! There were ten toys in her toy box!\n",
            "Lily was very happy that she could count all of her toys. She decided to give some to her friends as a present. She put some of her toys in a box and wrapped it up with pretty paper. She gave the box to her friend, Sarah, who was very happy to receive it.\n",
            "The box was very tight, but Sarah could carry it around easily. She loved her new toy and played with it all day. Lily was happy that her friend liked her present and was glad that she could share her toys with her friend. The end.\n",
            "achieved tok/s: 6.058970\n"
          ]
        }
      ]
    },
    {
      "cell_type": "markdown",
      "source": [
        "### 脚本测试"
      ],
      "metadata": {
        "id": "Mp8KlFjEnBKe"
      }
    },
    {
      "cell_type": "code",
      "source": [
        "!python3 run_models.py --use-gpu"
      ],
      "metadata": {
        "id": "2I0c-OR0jn8V"
      },
      "execution_count": null,
      "outputs": []
    }
  ]
}