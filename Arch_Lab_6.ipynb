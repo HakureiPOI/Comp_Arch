{
  "nbformat": 4,
  "nbformat_minor": 0,
  "metadata": {
    "colab": {
      "provenance": [],
      "gpuType": "T4",
      "authorship_tag": "ABX9TyMfX7k3kQv1baHdxXFl2H6h",
      "include_colab_link": true
    },
    "kernelspec": {
      "name": "python3",
      "display_name": "Python 3"
    },
    "language_info": {
      "name": "python"
    },
    "accelerator": "GPU"
  },
  "cells": [
    {
      "cell_type": "markdown",
      "metadata": {
        "id": "view-in-github",
        "colab_type": "text"
      },
      "source": [
        "<a href=\"https://colab.research.google.com/github/HakureiPOI/Comp_Arch/blob/lab6/Arch_Lab_6.ipynb\" target=\"_parent\"><img src=\"https://colab.research.google.com/assets/colab-badge.svg\" alt=\"Open In Colab\"/></a>"
      ]
    },
    {
      "cell_type": "markdown",
      "source": [
        "# ***HakureiPOI*** *Arch_Lab_6*"
      ],
      "metadata": {
        "id": "4Sflm6L5eCMt"
      }
    },
    {
      "cell_type": "markdown",
      "source": [
        "---\n"
      ],
      "metadata": {
        "id": "_xnqI6_geHYL"
      }
    },
    {
      "cell_type": "markdown",
      "source": [
        "## 环境准备"
      ],
      "metadata": {
        "id": "N3gWbrLkeJaH"
      }
    },
    {
      "cell_type": "code",
      "source": [
        "!nvcc --version"
      ],
      "metadata": {
        "colab": {
          "base_uri": "https://localhost:8080/"
        },
        "id": "n7PSumwhh4Eb",
        "outputId": "d58068de-3bd1-45ea-8226-2927d67175c7"
      },
      "execution_count": 1,
      "outputs": [
        {
          "output_type": "stream",
          "name": "stdout",
          "text": [
            "nvcc: NVIDIA (R) Cuda compiler driver\n",
            "Copyright (c) 2005-2023 NVIDIA Corporation\n",
            "Built on Tue_Aug_15_22:02:13_PDT_2023\n",
            "Cuda compilation tools, release 12.2, V12.2.140\n",
            "Build cuda_12.2.r12.2/compiler.33191640_0\n"
          ]
        }
      ]
    },
    {
      "cell_type": "code",
      "source": [
        "!nvidia-smi"
      ],
      "metadata": {
        "id": "gB5dSaBTjHD9",
        "colab": {
          "base_uri": "https://localhost:8080/"
        },
        "outputId": "1214f6e9-83a9-43c6-a829-9eac5bd157ea"
      },
      "execution_count": 2,
      "outputs": [
        {
          "output_type": "stream",
          "name": "stdout",
          "text": [
            "Wed Dec 25 11:38:51 2024       \n",
            "+---------------------------------------------------------------------------------------+\n",
            "| NVIDIA-SMI 535.104.05             Driver Version: 535.104.05   CUDA Version: 12.2     |\n",
            "|-----------------------------------------+----------------------+----------------------+\n",
            "| GPU  Name                 Persistence-M | Bus-Id        Disp.A | Volatile Uncorr. ECC |\n",
            "| Fan  Temp   Perf          Pwr:Usage/Cap |         Memory-Usage | GPU-Util  Compute M. |\n",
            "|                                         |                      |               MIG M. |\n",
            "|=========================================+======================+======================|\n",
            "|   0  Tesla T4                       Off | 00000000:00:04.0 Off |                    0 |\n",
            "| N/A   38C    P8               9W /  70W |      0MiB / 15360MiB |      0%      Default |\n",
            "|                                         |                      |                  N/A |\n",
            "+-----------------------------------------+----------------------+----------------------+\n",
            "                                                                                         \n",
            "+---------------------------------------------------------------------------------------+\n",
            "| Processes:                                                                            |\n",
            "|  GPU   GI   CI        PID   Type   Process name                            GPU Memory |\n",
            "|        ID   ID                                                             Usage      |\n",
            "|=======================================================================================|\n",
            "|  No running processes found                                                           |\n",
            "+---------------------------------------------------------------------------------------+\n"
          ]
        }
      ]
    },
    {
      "cell_type": "code",
      "source": [
        "!git clone https://github.com/HakureiPOI/Comp_Arch.git"
      ],
      "metadata": {
        "colab": {
          "base_uri": "https://localhost:8080/"
        },
        "id": "L0Z1NxXUeCr5",
        "outputId": "5eed2c95-e99d-409b-99fb-d2041703653f"
      },
      "execution_count": 3,
      "outputs": [
        {
          "output_type": "stream",
          "name": "stdout",
          "text": [
            "Cloning into 'Comp_Arch'...\n",
            "remote: Enumerating objects: 984, done.\u001b[K\n",
            "remote: Counting objects: 100% (84/84), done.\u001b[K\n",
            "remote: Compressing objects: 100% (74/74), done.\u001b[K\n",
            "remote: Total 984 (delta 33), reused 44 (delta 7), pack-reused 900 (from 2)\u001b[K\n",
            "Receiving objects: 100% (984/984), 62.12 MiB | 15.18 MiB/s, done.\n",
            "Resolving deltas: 100% (602/602), done.\n"
          ]
        }
      ]
    },
    {
      "cell_type": "code",
      "source": [
        "%cd Comp_Arch"
      ],
      "metadata": {
        "colab": {
          "base_uri": "https://localhost:8080/"
        },
        "id": "QwVj3zL7fOrB",
        "outputId": "20c4ab40-d0f5-46c5-e3a6-0f50ac644a99"
      },
      "execution_count": 4,
      "outputs": [
        {
          "output_type": "stream",
          "name": "stdout",
          "text": [
            "/content/Comp_Arch\n"
          ]
        }
      ]
    },
    {
      "cell_type": "code",
      "execution_count": 5,
      "metadata": {
        "colab": {
          "base_uri": "https://localhost:8080/"
        },
        "id": "3g3ii-sod-qW",
        "outputId": "6c51cbc2-fa1b-493e-c1fc-2a324b6adee2"
      },
      "outputs": [
        {
          "output_type": "stream",
          "name": "stdout",
          "text": [
            "* \u001b[32mmain\u001b[m\n",
            "  \u001b[31mremotes/origin/HEAD\u001b[m -> origin/main\n",
            "  \u001b[31mremotes/origin/lab1\u001b[m\n",
            "  \u001b[31mremotes/origin/lab2\u001b[m\n",
            "  \u001b[31mremotes/origin/lab3\u001b[m\n",
            "  \u001b[31mremotes/origin/lab4-5\u001b[m\n",
            "  \u001b[31mremotes/origin/lab6\u001b[m\n",
            "  \u001b[31mremotes/origin/main\u001b[m\n"
          ]
        }
      ],
      "source": [
        "!git branch -a"
      ]
    },
    {
      "cell_type": "code",
      "source": [
        "!git switch lab6"
      ],
      "metadata": {
        "colab": {
          "base_uri": "https://localhost:8080/"
        },
        "id": "eVk3d9xhfFXr",
        "outputId": "fface7f1-d0e0-497d-bf52-b1604d621f31"
      },
      "execution_count": 6,
      "outputs": [
        {
          "output_type": "stream",
          "name": "stdout",
          "text": [
            "Filtering content: 100% (7/7), 1.24 GiB | 35.86 MiB/s, done.\n",
            "Branch 'lab6' set up to track remote branch 'lab6' from 'origin'.\n",
            "Switched to a new branch 'lab6'\n"
          ]
        }
      ]
    },
    {
      "cell_type": "markdown",
      "source": [
        "---\n",
        "## make run"
      ],
      "metadata": {
        "id": "dMkpGZYygB2C"
      }
    },
    {
      "cell_type": "code",
      "source": [
        "%cd /content/Comp_Arch/lab6/llama2.c"
      ],
      "metadata": {
        "colab": {
          "base_uri": "https://localhost:8080/"
        },
        "id": "hM0NT7qHfVLc",
        "outputId": "bcb64107-835a-41ec-9109-886180f1e400"
      },
      "execution_count": 7,
      "outputs": [
        {
          "output_type": "stream",
          "name": "stdout",
          "text": [
            "/content/Comp_Arch/lab6/llama2.c\n"
          ]
        }
      ]
    },
    {
      "cell_type": "code",
      "source": [
        "!make run"
      ],
      "metadata": {
        "colab": {
          "base_uri": "https://localhost:8080/"
        },
        "id": "4kICf2EIgI_W",
        "outputId": "7ecfa71e-2609-49b3-8241-a21829564edd"
      },
      "execution_count": 8,
      "outputs": [
        {
          "output_type": "stream",
          "name": "stdout",
          "text": [
            "gcc -O3 -o run run.c -lm\n",
            "gcc -O3 -o runq runq.c -lm\n"
          ]
        }
      ]
    },
    {
      "cell_type": "code",
      "source": [
        "!./run stories15M.bin"
      ],
      "metadata": {
        "colab": {
          "base_uri": "https://localhost:8080/"
        },
        "id": "HvbS13cDgNQL",
        "outputId": "8010e7c6-7c1a-4e84-9ebe-2111feb91eb4"
      },
      "execution_count": 9,
      "outputs": [
        {
          "output_type": "stream",
          "name": "stdout",
          "text": [
            "One day, a boy named Tim went to the park. He saw a big, weird hole in the ground. Tim was curious and wanted to know what was inside the hole. He thought maybe he could find a toy in the hole.\n",
            "Tim called his friend, Sam. \"Sam, come look at this weird hole,\" Tim said. Sam came running and looked at the hole. They both wondered what was in the hole. Tim and Sam decided to go into the hole to find out.\n",
            "In the hole, they found a small, scared kitten. The kitten was stuck and could not get out. Tim and Sam felt sad for the kitten. They decided to help the kitten and took it out of the hole. The kitten was happy to be free and became Tim's new best friend.\n",
            "achieved tok/s: 54.071247\n"
          ]
        }
      ]
    },
    {
      "cell_type": "code",
      "source": [
        "!./run stories42M.bin"
      ],
      "metadata": {
        "colab": {
          "base_uri": "https://localhost:8080/"
        },
        "id": "8xyz9KR4gRxR",
        "outputId": "756ad3bc-3898-4dcb-c92c-e8b9ddec0891"
      },
      "execution_count": 10,
      "outputs": [
        {
          "output_type": "stream",
          "name": "stdout",
          "text": [
            "Once upon a time, there was a clever little mouse named Timmy. Timmy lived in a cozy hole in the wall of a big house. One day, Timmy found a shiny piece of cheese. He was so happy that he wanted to show it to his friends.\n",
            "Timmy ran to his friend's house and knocked on the door. But when his friends opened the door, they saw a big cat trying to eat Timmy's cheese! Timmy didn't know what to do, so he shrugged his shoulders and ran away.\n",
            "But then, something unexpected happened. Timmy had an idea. He went back to his friends' house and brought back a big piece of cheese. The cat was so surprised that he stopped chasing Timmy. Timmy's clever plan worked and he got to keep his cheese. From that day on, Timmy was known as the cleverest mouse in the house.\n",
            "achieved tok/s: 17.758835\n"
          ]
        }
      ]
    },
    {
      "cell_type": "code",
      "source": [
        "!./run stories110M.bin"
      ],
      "metadata": {
        "colab": {
          "base_uri": "https://localhost:8080/"
        },
        "id": "aEZc8AMGgVcd",
        "outputId": "cae0d340-a6f2-4f1d-9d8b-56c34f1ec83e"
      },
      "execution_count": 11,
      "outputs": [
        {
          "output_type": "stream",
          "name": "stdout",
          "text": [
            "Once upon a time, there was a little boy named Tim. He had a big, smooth rock that he loved to play with. One day, while playing, he saw a small bag on the ground. Tim picked up the bag and looked inside.\n",
            "In the bag, he found a tiny frog. The frog looked at Tim and said, \"Hi! I am a magic frog. If you give me a kiss, I will turn into a big, strong lion.\" Tim thought about it and decided to give the frog a kiss.\n",
            "After the kiss, the frog turned into a big, strong lion. The lion was happy and said, \"Thank you, Tim! Now I can play with you and your smooth rock.\" Tim and the lion played all day long, and they became best friends.\n",
            "achieved tok/s: 6.860243\n"
          ]
        }
      ]
    },
    {
      "cell_type": "markdown",
      "source": [
        "### 脚本测试"
      ],
      "metadata": {
        "id": "5UOYuhztm8la"
      }
    },
    {
      "cell_type": "code",
      "source": [
        "!python3 run_models.py"
      ],
      "metadata": {
        "colab": {
          "base_uri": "https://localhost:8080/"
        },
        "id": "CFMB9plAm7iv",
        "outputId": "8102becf-fdc8-4975-da14-867ed512abe1"
      },
      "execution_count": 12,
      "outputs": [
        {
          "output_type": "stream",
          "name": "stdout",
          "text": [
            "Running model: stories15M.bin with CPU\n",
            "Run 1 for stories15M.bin...\n",
            "Run 1: 49.815951 tok/s\n",
            "Run 2 for stories15M.bin...\n",
            "Run 2: 53.72617 tok/s\n",
            "Run 3 for stories15M.bin...\n",
            "Run 3: 53.905391 tok/s\n",
            "Run 4 for stories15M.bin...\n",
            "Run 4: 53.03559 tok/s\n",
            "Run 5 for stories15M.bin...\n",
            "Run 5: 50.129646 tok/s\n",
            "Average tok/s for stories15M.bin: 52.1225496\n",
            "Running model: stories42M.bin with CPU\n",
            "Run 1 for stories42M.bin...\n",
            "Run 1: 18.086914 tok/s\n",
            "Run 2 for stories42M.bin...\n",
            "Run 2: 17.539033 tok/s\n",
            "Run 3 for stories42M.bin...\n",
            "Run 3: 17.96922 tok/s\n",
            "Run 4 for stories42M.bin...\n",
            "Run 4: 18.427378 tok/s\n",
            "Run 5 for stories42M.bin...\n",
            "Run 5: 18.160116 tok/s\n",
            "Average tok/s for stories42M.bin: 18.0365322\n",
            "Running model: stories110M.bin with CPU\n",
            "Run 1 for stories110M.bin...\n",
            "Run 1: 6.891298 tok/s\n",
            "Run 2 for stories110M.bin...\n",
            "Run 2: 6.91925 tok/s\n",
            "Run 3 for stories110M.bin...\n",
            "Run 3: 6.913777 tok/s\n",
            "Run 4 for stories110M.bin...\n",
            "Run 4: 6.840863 tok/s\n",
            "Run 5 for stories110M.bin...\n",
            "Run 5: 6.848763 tok/s\n",
            "Average tok/s for stories110M.bin: 6.8827902\n",
            "\n",
            "Final Results:\n",
            "stories15M.bin: 52.12 tok/s (average)\n",
            "stories42M.bin: 18.04 tok/s (average)\n",
            "stories110M.bin: 6.88 tok/s (average)\n"
          ]
        }
      ]
    },
    {
      "cell_type": "markdown",
      "source": [
        "---\n",
        "## run with GPU"
      ],
      "metadata": {
        "id": "dpTD2NqMi6rc"
      }
    },
    {
      "cell_type": "code",
      "source": [
        "!nvcc -O3 -lcublas -o run_gpu run_optimized.c"
      ],
      "metadata": {
        "id": "bHrGWtF5gX89"
      },
      "execution_count": 13,
      "outputs": []
    },
    {
      "cell_type": "code",
      "source": [
        "!./run_gpu stories15M.bin"
      ],
      "metadata": {
        "colab": {
          "base_uri": "https://localhost:8080/"
        },
        "id": "JvVDS2m2jZYP",
        "outputId": "95a87d71-ecea-4002-cd27-94721c00391e"
      },
      "execution_count": 14,
      "outputs": [
        {
          "output_type": "stream",
          "name": "stdout",
          "text": [
            "Once upon a time, there was a jolly little girl named Lily. She loved to play with her friends in the park. One day, they decided to play a game of catch. Lily threw the ball to her friend, but it went over the fence and into the neighbor's yard.\n",
            "Lily went to the neighbor's house and knocked on the door. The neighbor, Mrs. Smith, answered and Lily knocked on the door. Mrs. Smith was very kind and gave Lily a gift. She told Lily to wash her hands after playing catch with the ball.\n",
            "Lily was happy to receive the gift and thanked Mrs. Smith. She went back to playing with her friends and had a jolly time. The end.\n",
            "achieved tok/s: 29.261156\n"
          ]
        }
      ]
    },
    {
      "cell_type": "code",
      "source": [
        "!./run_gpu stories42M.bin"
      ],
      "metadata": {
        "colab": {
          "base_uri": "https://localhost:8080/"
        },
        "id": "zNG1KK7ajhWl",
        "outputId": "aa7ea9bc-c3e2-4175-a677-564c30087d30"
      },
      "execution_count": 15,
      "outputs": [
        {
          "output_type": "stream",
          "name": "stdout",
          "text": [
            "Once upon a time, there was a little girl named Lily. She loved to play with her toys and go on adventures with her friends. One day, she found a shiny rock on the ground and picked it up. \"Look, Mommy! I found a pretty rock!\" she exclaimed.\n",
            "Her mommy smiled and said, \"That's a beautiful rock, Lily. You must have a lot of value because you found it.\"\n",
            "Lily didn't understand what \"value\" meant, but she knew it was something special. She decided to show her rock to her friends and they all thought it was very pretty too. But as they were playing, they accidentally bumped into each other and Lily's rock fell out of her pocket.\n",
            "\"Oh no!\" cried Lily. \"My rock fell out of my pocket!\"\n",
            "\"Don't worry, Lily,\" said her friend. \"We'll find it together.\"\n",
            "And so, they searched and searched until they found the rock. Lily was so happy and grateful for her dependable friend who helped her find her precious rock. From that day on, she knew the value of friendship and always looked for ways to be depend\n",
            "achieved tok/s: 13.263979\n"
          ]
        }
      ]
    },
    {
      "cell_type": "code",
      "source": [
        "!./run_gpu stories110M.bin"
      ],
      "metadata": {
        "colab": {
          "base_uri": "https://localhost:8080/"
        },
        "id": "9CBt9L6bjkM6",
        "outputId": "ff5c9ebd-0b25-4b27-92f3-683c31b12346"
      },
      "execution_count": 16,
      "outputs": [
        {
          "output_type": "stream",
          "name": "stdout",
          "text": [
            "Once upon a time, there was a little birdie who lived in a cozy nest on a roof. The birdie was very restless and couldn't sit still for too long. One day, the birdie flew down to the ground to find some food.\n",
            "As the birdie was looking for some food, it saw a little worm who was stuck in a hole. The birdie wanted to help the worm, but it didn't know how. So, the birdie decided to repeat its actions and asked a friendly cat for help.\n",
            "The cat came and helped the worm get out of the hole. The birdie was so happy and thanked the cat. From that day on, the birdie wasn't so restless anymore because it had a new friend to play with. And every time it saw the cat, it would chirp happily and repeat the word \"thank you\" to make the cat smile.\n",
            "achieved tok/s: 6.087625\n"
          ]
        }
      ]
    },
    {
      "cell_type": "markdown",
      "source": [
        "### 脚本测试"
      ],
      "metadata": {
        "id": "Mp8KlFjEnBKe"
      }
    },
    {
      "cell_type": "code",
      "source": [
        "!python3 run_models.py --use-gpu"
      ],
      "metadata": {
        "id": "2I0c-OR0jn8V",
        "colab": {
          "base_uri": "https://localhost:8080/"
        },
        "outputId": "c30fa371-474b-4622-e87e-5a08916719cb"
      },
      "execution_count": 17,
      "outputs": [
        {
          "output_type": "stream",
          "name": "stdout",
          "text": [
            "Running model: stories15M.bin with GPU\n",
            "Run 1 for stories15M.bin...\n",
            "Run 1: 29.714875 tok/s\n",
            "Run 2 for stories15M.bin...\n",
            "Run 2: 28.136379 tok/s\n",
            "Run 3 for stories15M.bin...\n",
            "Run 3: 28.273645 tok/s\n",
            "Run 4 for stories15M.bin...\n",
            "Run 4: 29.207452 tok/s\n",
            "Run 5 for stories15M.bin...\n",
            "Run 5: 27.777778 tok/s\n",
            "Average tok/s for stories15M.bin: 28.6220258\n",
            "Running model: stories42M.bin with GPU\n",
            "Run 1 for stories42M.bin...\n",
            "Run 1: 13.763645 tok/s\n",
            "Run 2 for stories42M.bin...\n",
            "Run 2: 13.777081 tok/s\n",
            "Run 3 for stories42M.bin...\n",
            "Run 3: 13.686912 tok/s\n",
            "Run 4 for stories42M.bin...\n",
            "Run 4: 13.683928 tok/s\n",
            "Run 5 for stories42M.bin...\n",
            "Run 5: 13.69863 tok/s\n",
            "Average tok/s for stories42M.bin: 13.722039200000001\n",
            "Running model: stories110M.bin with GPU\n",
            "Run 1 for stories110M.bin...\n",
            "Run 1: 6.183894 tok/s\n",
            "Run 2 for stories110M.bin...\n",
            "Run 2: 6.160164 tok/s\n",
            "Run 3 for stories110M.bin...\n",
            "Run 3: 6.198109 tok/s\n",
            "Run 4 for stories110M.bin...\n",
            "Run 4: 6.183442 tok/s\n",
            "Run 5 for stories110M.bin...\n",
            "Run 5: 6.169346 tok/s\n",
            "Average tok/s for stories110M.bin: 6.178991\n",
            "\n",
            "Final Results:\n",
            "stories15M.bin: 28.62 tok/s (average)\n",
            "stories42M.bin: 13.72 tok/s (average)\n",
            "stories110M.bin: 6.18 tok/s (average)\n"
          ]
        }
      ]
    }
  ]
}