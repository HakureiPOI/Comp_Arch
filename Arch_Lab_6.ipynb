{
  "nbformat": 4,
  "nbformat_minor": 0,
  "metadata": {
    "colab": {
      "provenance": [],
      "gpuType": "T4",
      "authorship_tag": "ABX9TyNIT94n1W4LQs2/UZp14I5B",
      "include_colab_link": true
    },
    "kernelspec": {
      "name": "python3",
      "display_name": "Python 3"
    },
    "language_info": {
      "name": "python"
    },
    "accelerator": "GPU"
  },
  "cells": [
    {
      "cell_type": "markdown",
      "metadata": {
        "id": "view-in-github",
        "colab_type": "text"
      },
      "source": [
        "<a href=\"https://colab.research.google.com/github/HakureiPOI/Comp_Arch/blob/lab6/Arch_Lab_6.ipynb\" target=\"_parent\"><img src=\"https://colab.research.google.com/assets/colab-badge.svg\" alt=\"Open In Colab\"/></a>"
      ]
    },
    {
      "cell_type": "markdown",
      "source": [
        "# ***HakureiPOI*** *Arch_Lab_6*"
      ],
      "metadata": {
        "id": "4Sflm6L5eCMt"
      }
    },
    {
      "cell_type": "markdown",
      "source": [
        "---\n"
      ],
      "metadata": {
        "id": "_xnqI6_geHYL"
      }
    },
    {
      "cell_type": "markdown",
      "source": [
        "## 环境准备"
      ],
      "metadata": {
        "id": "N3gWbrLkeJaH"
      }
    },
    {
      "cell_type": "code",
      "source": [
        "!nvcc --version"
      ],
      "metadata": {
        "colab": {
          "base_uri": "https://localhost:8080/"
        },
        "id": "n7PSumwhh4Eb",
        "outputId": "17b1929a-b92b-4a03-d1cd-17eb1bc0d153"
      },
      "execution_count": 1,
      "outputs": [
        {
          "output_type": "stream",
          "name": "stdout",
          "text": [
            "nvcc: NVIDIA (R) Cuda compiler driver\n",
            "Copyright (c) 2005-2023 NVIDIA Corporation\n",
            "Built on Tue_Aug_15_22:02:13_PDT_2023\n",
            "Cuda compilation tools, release 12.2, V12.2.140\n",
            "Build cuda_12.2.r12.2/compiler.33191640_0\n"
          ]
        }
      ]
    },
    {
      "cell_type": "code",
      "source": [
        "!nvidia-smi"
      ],
      "metadata": {
        "id": "gB5dSaBTjHD9",
        "colab": {
          "base_uri": "https://localhost:8080/"
        },
        "outputId": "37e37bd6-6f22-4a15-ce8c-5813561f8243"
      },
      "execution_count": 2,
      "outputs": [
        {
          "output_type": "stream",
          "name": "stdout",
          "text": [
            "Fri Dec 27 08:27:16 2024       \n",
            "+---------------------------------------------------------------------------------------+\n",
            "| NVIDIA-SMI 535.104.05             Driver Version: 535.104.05   CUDA Version: 12.2     |\n",
            "|-----------------------------------------+----------------------+----------------------+\n",
            "| GPU  Name                 Persistence-M | Bus-Id        Disp.A | Volatile Uncorr. ECC |\n",
            "| Fan  Temp   Perf          Pwr:Usage/Cap |         Memory-Usage | GPU-Util  Compute M. |\n",
            "|                                         |                      |               MIG M. |\n",
            "|=========================================+======================+======================|\n",
            "|   0  Tesla T4                       Off | 00000000:00:04.0 Off |                    0 |\n",
            "| N/A   51C    P8              10W /  70W |      0MiB / 15360MiB |      0%      Default |\n",
            "|                                         |                      |                  N/A |\n",
            "+-----------------------------------------+----------------------+----------------------+\n",
            "                                                                                         \n",
            "+---------------------------------------------------------------------------------------+\n",
            "| Processes:                                                                            |\n",
            "|  GPU   GI   CI        PID   Type   Process name                            GPU Memory |\n",
            "|        ID   ID                                                             Usage      |\n",
            "|=======================================================================================|\n",
            "|  No running processes found                                                           |\n",
            "+---------------------------------------------------------------------------------------+\n"
          ]
        }
      ]
    },
    {
      "cell_type": "code",
      "source": [
        "!git clone https://github.com/HakureiPOI/Comp_Arch.git"
      ],
      "metadata": {
        "colab": {
          "base_uri": "https://localhost:8080/"
        },
        "id": "L0Z1NxXUeCr5",
        "outputId": "1e40206a-81b5-4b85-dc7d-5cf81c4e3026"
      },
      "execution_count": 3,
      "outputs": [
        {
          "output_type": "stream",
          "name": "stdout",
          "text": [
            "Cloning into 'Comp_Arch'...\n",
            "remote: Enumerating objects: 1021, done.\u001b[K\n",
            "remote: Counting objects: 100% (121/121), done.\u001b[K\n",
            "remote: Compressing objects: 100% (110/110), done.\u001b[K\n",
            "remote: Total 1021 (delta 55), reused 48 (delta 8), pack-reused 900 (from 2)\u001b[K\n",
            "Receiving objects: 100% (1021/1021), 62.14 MiB | 24.61 MiB/s, done.\n",
            "Resolving deltas: 100% (624/624), done.\n"
          ]
        }
      ]
    },
    {
      "cell_type": "code",
      "source": [
        "!git clone https://github.com/karpathy/llama2.c.git"
      ],
      "metadata": {
        "id": "qJ9v2cqfuTjB",
        "outputId": "d12a47b2-3c94-4185-ef47-a8a99597a5d5",
        "colab": {
          "base_uri": "https://localhost:8080/"
        }
      },
      "execution_count": 4,
      "outputs": [
        {
          "output_type": "stream",
          "name": "stdout",
          "text": [
            "Cloning into 'llama2.c'...\n",
            "remote: Enumerating objects: 1517, done.\u001b[K\n",
            "remote: Counting objects: 100% (6/6), done.\u001b[K\n",
            "remote: Compressing objects: 100% (6/6), done.\u001b[K\n",
            "remote: Total 1517 (delta 4), reused 0 (delta 0), pack-reused 1511 (from 2)\u001b[K\n",
            "Receiving objects: 100% (1517/1517), 1.23 MiB | 3.68 MiB/s, done.\n",
            "Resolving deltas: 100% (931/931), done.\n"
          ]
        }
      ]
    },
    {
      "cell_type": "code",
      "source": [
        "%cd Comp_Arch"
      ],
      "metadata": {
        "colab": {
          "base_uri": "https://localhost:8080/"
        },
        "id": "QwVj3zL7fOrB",
        "outputId": "942c7394-ea81-49ae-a27d-ddd3332c7031"
      },
      "execution_count": 5,
      "outputs": [
        {
          "output_type": "stream",
          "name": "stdout",
          "text": [
            "/content/Comp_Arch\n"
          ]
        }
      ]
    },
    {
      "cell_type": "code",
      "execution_count": 6,
      "metadata": {
        "colab": {
          "base_uri": "https://localhost:8080/"
        },
        "id": "3g3ii-sod-qW",
        "outputId": "995f1044-f862-44a8-f38c-409e48460f93"
      },
      "outputs": [
        {
          "output_type": "stream",
          "name": "stdout",
          "text": [
            "* \u001b[32mmain\u001b[m\n",
            "  \u001b[31mremotes/origin/HEAD\u001b[m -> origin/main\n",
            "  \u001b[31mremotes/origin/lab1\u001b[m\n",
            "  \u001b[31mremotes/origin/lab2\u001b[m\n",
            "  \u001b[31mremotes/origin/lab3\u001b[m\n",
            "  \u001b[31mremotes/origin/lab4-5\u001b[m\n",
            "  \u001b[31mremotes/origin/lab6\u001b[m\n",
            "  \u001b[31mremotes/origin/main\u001b[m\n"
          ]
        }
      ],
      "source": [
        "!git branch -a"
      ]
    },
    {
      "cell_type": "code",
      "source": [
        "!git switch lab6"
      ],
      "metadata": {
        "colab": {
          "base_uri": "https://localhost:8080/"
        },
        "id": "eVk3d9xhfFXr",
        "outputId": "acdd9cf2-42c7-46be-d5f4-5463d35137e2"
      },
      "execution_count": 7,
      "outputs": [
        {
          "output_type": "stream",
          "name": "stdout",
          "text": [
            "Branch 'lab6' set up to track remote branch 'lab6' from 'origin'.\n",
            "Switched to a new branch 'lab6'\n"
          ]
        }
      ]
    },
    {
      "cell_type": "code",
      "source": [
        "!cp lab6/run_optimized.c /content/llama2.c/run_optimized.c\n",
        "!cp lab6/run_models.py /content/llama2.c/run_models.py"
      ],
      "metadata": {
        "id": "D1Zl6p1PvUbS"
      },
      "execution_count": 8,
      "outputs": []
    },
    {
      "cell_type": "code",
      "source": [
        "%cd /content/llama2.c"
      ],
      "metadata": {
        "id": "Ha3V6l3Svkdh",
        "outputId": "8dff68e6-9c3e-483b-ee17-9b485e524e95",
        "colab": {
          "base_uri": "https://localhost:8080/"
        }
      },
      "execution_count": 9,
      "outputs": [
        {
          "output_type": "stream",
          "name": "stdout",
          "text": [
            "/content/llama2.c\n"
          ]
        }
      ]
    },
    {
      "cell_type": "code",
      "source": [
        "!wget https://huggingface.co/karpathy/tinyllamas/resolve/main/stories15M.bin >> download.log 2>&1\n",
        "!wget https://huggingface.co/karpathy/tinyllamas/resolve/main/stories42M.bin >> download.log 2>&1\n",
        "!wget https://huggingface.co/karpathy/tinyllamas/resolve/main/stories110M.bin >> download.log 2>&1"
      ],
      "metadata": {
        "id": "QwZf0o56vo5y"
      },
      "execution_count": 10,
      "outputs": []
    },
    {
      "cell_type": "markdown",
      "source": [
        "---\n",
        "## make run"
      ],
      "metadata": {
        "id": "dMkpGZYygB2C"
      }
    },
    {
      "cell_type": "code",
      "source": [
        "!make run"
      ],
      "metadata": {
        "colab": {
          "base_uri": "https://localhost:8080/"
        },
        "id": "4kICf2EIgI_W",
        "outputId": "95858c84-323d-4e3c-89a3-1b7b3591c636"
      },
      "execution_count": 11,
      "outputs": [
        {
          "output_type": "stream",
          "name": "stdout",
          "text": [
            "gcc -O3 -o run run.c -lm\n",
            "gcc -O3 -o runq runq.c -lm\n"
          ]
        }
      ]
    },
    {
      "cell_type": "code",
      "source": [
        "!./run stories15M.bin"
      ],
      "metadata": {
        "colab": {
          "base_uri": "https://localhost:8080/"
        },
        "id": "HvbS13cDgNQL",
        "outputId": "e4821b56-cd09-46cc-8365-bb2257161b91"
      },
      "execution_count": 12,
      "outputs": [
        {
          "output_type": "stream",
          "name": "stdout",
          "text": [
            "Once upon a time, there was a big yellow van. The van was outside the window. It was in the yard. A boy named Tim and a girl named Sue wanted to ride in the yellow van.\n",
            "Tim and Sue went to the yellow van. They opened the door and put their toys inside. They were happy. They played with their toys all day. They got in the yellow van and made a big mess.\n",
            "Tim and Sue's mom came out to see what they were doing. She saw the mess they made. She was not mad. She smiled and said, \"Let's clean up together.\" Tim and Sue agreed. They put their toys away and got their toys. They played in the yellow van and had a fun day.\n",
            "achieved tok/s: 52.076467\n"
          ]
        }
      ]
    },
    {
      "cell_type": "code",
      "source": [
        "!./run stories42M.bin"
      ],
      "metadata": {
        "colab": {
          "base_uri": "https://localhost:8080/"
        },
        "id": "8xyz9KR4gRxR",
        "outputId": "4edf78cc-621d-4bef-a91a-dcecd664875d"
      },
      "execution_count": 13,
      "outputs": [
        {
          "output_type": "stream",
          "name": "stdout",
          "text": [
            "Once upon a time, there was a big red ball. The ball had a crazy face. It could laugh and play all day. The ball liked to make people happy. One day, the ball met a little girl named Sue. Sue was sad because she had no friends to play with. The ball wanted to help Sue.\n",
            "The ball rolled over to Sue and said, \"Hi! I am a big red ball. I can make people happy. Would you like to play with me?\" Sue looked at the ball and smiled. She said, \"Yes, I want to play with you!\" Sue and the ball played all day. They had so much fun.\n",
            "The next day, Sue saw a boy named Tom. Tom was sad because he had no friends. Sue went to Tom and said, \"Hi! I am Sue. Let's play together!\" Tom smiled and they played all day. Soon, Tom had many friends. Tom and Sue were very happy. The moral of the story is: when you help others, you make friends and be happy too.\n",
            "achieved tok/s: 17.777778\n"
          ]
        }
      ]
    },
    {
      "cell_type": "code",
      "source": [
        "!./run stories110M.bin"
      ],
      "metadata": {
        "colab": {
          "base_uri": "https://localhost:8080/"
        },
        "id": "aEZc8AMGgVcd",
        "outputId": "984a1c7b-37a2-4907-938b-508319ed460a"
      },
      "execution_count": 14,
      "outputs": [
        {
          "output_type": "stream",
          "name": "stdout",
          "text": [
            "Once upon a time, there was a little girl named Lily. She loved to play outside with her friends. One day, she saw a big, wide mailbox on the corner of the street. \n",
            "\"W^C\n"
          ]
        }
      ]
    },
    {
      "cell_type": "markdown",
      "source": [
        "### 脚本测试"
      ],
      "metadata": {
        "id": "5UOYuhztm8la"
      }
    },
    {
      "cell_type": "code",
      "source": [
        "!python3 run_models.py"
      ],
      "metadata": {
        "colab": {
          "base_uri": "https://localhost:8080/"
        },
        "id": "CFMB9plAm7iv",
        "outputId": "9eee1080-ca6e-4a59-f1c8-f0787f4fb723"
      },
      "execution_count": 15,
      "outputs": [
        {
          "output_type": "stream",
          "name": "stdout",
          "text": [
            "Running model: stories15M.bin with CPU\n",
            "Run 1 for stories15M.bin...\n",
            "Traceback (most recent call last):\n",
            "  File \"/usr/lib/python3.10/subprocess.py\", line 1154, in communicate\n",
            "    stdout, stderr = self._communicate(input, endtime, timeout)\n",
            "  File \"/usr/lib/python3.10/subprocess.py\", line 2021, in _communicate\n",
            "    ready = selector.select(timeout)\n",
            "  File \"/usr/lib/python3.10/selectors.py\", line 416, in select\n",
            "    fd_event_list = self._selector.poll(timeout)\n",
            "KeyboardInterrupt\n",
            "\n",
            "During handling of the above exception, another exception occurred:\n",
            "\n",
            "Traceback (most recent call last):\n",
            "  File \"/content/llama2.c/run_models.py\", line 35, in <module>\n",
            "    process = subprocess.run(\n",
            "  File \"/usr/lib/python3.10/subprocess.py\", line 505, in run\n",
            "    stdout, stderr = process.communicate(input, timeout=timeout)\n",
            "  File \"/usr/lib/python3.10/subprocess.py\", line 1165, in communicate\n",
            "    self._wait(timeout=sigint_timeout)\n",
            "  File \"/usr/lib/python3.10/subprocess.py\", line 1953, in _wait\n",
            "    time.sleep(delay)\n",
            "KeyboardInterrupt\n",
            "^C\n"
          ]
        }
      ]
    },
    {
      "cell_type": "markdown",
      "source": [
        "---\n",
        "## run with GPU"
      ],
      "metadata": {
        "id": "dpTD2NqMi6rc"
      }
    },
    {
      "cell_type": "code",
      "source": [
        "!nvcc -O3 -lcublas -o run_gpu run_optimized.c"
      ],
      "metadata": {
        "id": "bHrGWtF5gX89"
      },
      "execution_count": 16,
      "outputs": []
    },
    {
      "cell_type": "code",
      "source": [
        "!./run_gpu stories15M.bin"
      ],
      "metadata": {
        "colab": {
          "base_uri": "https://localhost:8080/"
        },
        "id": "JvVDS2m2jZYP",
        "outputId": "d939e285-5093-4d84-94ef-aa01c6f1689c"
      },
      "execution_count": 17,
      "outputs": [
        {
          "output_type": "stream",
          "name": "stdout",
          "text": [
            "Once upon a time, there was a little girl named Lily. She had a lot of toys, but she was very impatient. Her mom always told her to wait, but she never listened. One day, Lily went to the park with her mom. She was so excited to play on the swings and slide. \n",
            "But then, Lily saw a big, scary dog. She got scared and started to scream. Her mom told her not to worry and that the dog was friendly. Lily felt better and wanted to pet the dog. She reached out her hand and the dog licked it. Lily giggled and forgot about being scared. \n",
            "From that day on, Lily learned that sometimes it's okay to be a little scared and wait for things to be safe. She also learned that sometimes it's better to be patient and make time for new things. And that's the moral of the story: always wait for your mom and try new things, even if they seem scary at first.\n",
            "achieved tok/s: 27.525221\n"
          ]
        }
      ]
    },
    {
      "cell_type": "code",
      "source": [
        "!./run_gpu stories42M.bin"
      ],
      "metadata": {
        "colab": {
          "base_uri": "https://localhost:8080/"
        },
        "id": "zNG1KK7ajhWl",
        "outputId": "bab4459b-7d87-40e7-d089-ac53fafb1e52"
      },
      "execution_count": 18,
      "outputs": [
        {
          "output_type": "stream",
          "name": "stdout",
          "text": [
            "Once upon a time, there was a little girl named Lily. She loved to play outside in the big green yard. One day, she saw a tall structure that her daddy built for her. It was an unusual structure with lots of twists and turns.\n",
            "Lily went up to the structure and knocked on the door. A kind old man opened it and invited her in. He asked her if she wanted to spin around in circles with him. Lily was so happy and said yes. They spun around and around until Lily got dizzy.\n",
            "As she got up to leave, the old man said, \"You know, spinning is so much fun! Come back and visit me anytime.\" Lily smiled and ran back to her house to tell her mommy and daddy about the unusual structure she found. From that day on, Lily visited the old man every week to spin around in circles with him.\n",
            "achieved tok/s: 13.716063\n"
          ]
        }
      ]
    },
    {
      "cell_type": "code",
      "source": [
        "!./run_gpu stories110M.bin"
      ],
      "metadata": {
        "colab": {
          "base_uri": "https://localhost:8080/"
        },
        "id": "9CBt9L6bjkM6",
        "outputId": "d06a5461-ec7a-4f74-aaa3-dea720c4a534"
      },
      "execution_count": 19,
      "outputs": [
        {
          "output_type": "stream",
          "name": "stdout",
          "text": [
            "Once upon a time, there was a little girl named Lily. She loved to play with her toys, especially her dolls. One day, she saw a new doll at the store. It was very pretty, but also very expensive. Lily's mommy told her they couldn't buy it because it cost too much money.\n",
            "Lily was sad, but she understood. She went home and played with her other toys. Suddenly, she heard a strange noise. She turned around and saw a little rat running across the floor. Lily was scared and didn't know what to do. But then she remembered something her mommy had told her. She called out for help.\n",
            "Her mommy came running and saw the rat. She grabbed a broom and tried to catch it. But the rat was too fast and ran under the bed. Lily's mommy tried to reach for it, but she couldn't. So, she decided to squeeze under the bed to get it. And guess what? The rat was already gone! Lily was so happy and relieved. She hugged her mommy and thanked her for helping her.\n",
            "achieved tok/s: 6.119712\n"
          ]
        }
      ]
    },
    {
      "cell_type": "markdown",
      "source": [
        "### 脚本测试"
      ],
      "metadata": {
        "id": "Mp8KlFjEnBKe"
      }
    },
    {
      "cell_type": "code",
      "source": [
        "!python3 run_models.py --use-gpu"
      ],
      "metadata": {
        "id": "2I0c-OR0jn8V",
        "colab": {
          "base_uri": "https://localhost:8080/"
        },
        "outputId": "2704044f-699f-4123-f98b-cb73acdaccf4"
      },
      "execution_count": 20,
      "outputs": [
        {
          "output_type": "stream",
          "name": "stdout",
          "text": [
            "Running model: stories15M.bin with GPU\n",
            "Run 1 for stories15M.bin...\n",
            "Run 1: 27.751793 tok/s\n",
            "Run 2 for stories15M.bin...\n",
            "Traceback (most recent call last):\n",
            "  File \"/usr/lib/python3.10/subprocess.py\", line 1154, in communicate\n",
            "    stdout, stderr = self._communicate(input, endtime, timeout)\n",
            "  File \"/usr/lib/python3.10/subprocess.py\", line 2021, in _communicate\n",
            "    ready = selector.select(timeout)\n",
            "  File \"/usr/lib/python3.10/selectors.py\", line 416, in select\n",
            "    fd_event_list = self._selector.poll(timeout)\n",
            "KeyboardInterrupt\n",
            "\n",
            "During handling of the above exception, another exception occurred:\n",
            "\n",
            "Traceback (most recent call last):\n",
            "  File \"/content/llama2.c/run_models.py\", line 35, in <module>\n",
            "    process = subprocess.run(\n",
            "  File \"/usr/lib/python3.10/subprocess.py\", line 505, in run\n",
            "    stdout, stderr = process.communicate(input, timeout=timeout)\n",
            "  File \"/usr/lib/python3.10/subprocess.py\", line 1165, in communicate\n",
            "    self._wait(timeout=sigint_timeout)\n",
            "  File \"/usr/lib/python3.10/subprocess.py\", line 1953, in _wait\n",
            "    time.sleep(delay)\n",
            "KeyboardInterrupt\n",
            "^C\n"
          ]
        }
      ]
    }
  ]
}