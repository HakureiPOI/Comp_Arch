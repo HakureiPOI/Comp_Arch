{
  "nbformat": 4,
  "nbformat_minor": 0,
  "metadata": {
    "colab": {
      "provenance": [],
      "gpuType": "T4",
      "authorship_tag": "ABX9TyNIT94n1W4LQs2/UZp14I5B",
      "include_colab_link": true
    },
    "kernelspec": {
      "name": "python3",
      "display_name": "Python 3"
    },
    "language_info": {
      "name": "python"
    },
    "accelerator": "GPU"
  },
  "cells": [
    {
      "cell_type": "markdown",
      "metadata": {
        "id": "view-in-github",
        "colab_type": "text"
      },
      "source": [
        "<a href=\"https://colab.research.google.com/github/HakureiPOI/Comp_Arch/blob/lab6/Arch_Lab_6.ipynb\" target=\"_parent\"><img src=\"https://colab.research.google.com/assets/colab-badge.svg\" alt=\"Open In Colab\"/></a>"
      ]
    },
    {
      "cell_type": "markdown",
      "source": [
        "# ***HakureiPOI*** *Arch_Lab_6*"
      ],
      "metadata": {
        "id": "4Sflm6L5eCMt"
      }
    },
    {
      "cell_type": "markdown",
      "source": [
        "---\n"
      ],
      "metadata": {
        "id": "_xnqI6_geHYL"
      }
    },
    {
      "cell_type": "markdown",
      "source": [
        "## 环境准备"
      ],
      "metadata": {
        "id": "N3gWbrLkeJaH"
      }
    },
    {
      "cell_type": "code",
      "source": [
        "!nvcc --version"
      ],
      "metadata": {
        "colab": {
          "base_uri": "https://localhost:8080/"
        },
        "id": "n7PSumwhh4Eb",
        "outputId": "1cb7d598-c9b0-484b-a367-e4aa5e126f28"
      },
      "execution_count": 1,
      "outputs": [
        {
          "output_type": "stream",
          "name": "stdout",
          "text": [
            "nvcc: NVIDIA (R) Cuda compiler driver\n",
            "Copyright (c) 2005-2023 NVIDIA Corporation\n",
            "Built on Tue_Aug_15_22:02:13_PDT_2023\n",
            "Cuda compilation tools, release 12.2, V12.2.140\n",
            "Build cuda_12.2.r12.2/compiler.33191640_0\n"
          ]
        }
      ]
    },
    {
      "cell_type": "code",
      "source": [
        "!nvidia-smi"
      ],
      "metadata": {
        "id": "gB5dSaBTjHD9",
        "colab": {
          "base_uri": "https://localhost:8080/"
        },
        "outputId": "8d20f982-ce64-4867-b480-9c69d84a89e3"
      },
      "execution_count": 2,
      "outputs": [
        {
          "output_type": "stream",
          "name": "stdout",
          "text": [
            "/bin/bash: line 1: nvidia-smi: command not found\n"
          ]
        }
      ]
    },
    {
      "cell_type": "code",
      "source": [
        "!git clone https://github.com/HakureiPOI/Comp_Arch.git"
      ],
      "metadata": {
        "colab": {
          "base_uri": "https://localhost:8080/"
        },
        "id": "L0Z1NxXUeCr5",
        "outputId": "def3c1ae-ee50-4e2c-f5d4-cbe8ee2a6543"
      },
      "execution_count": 3,
      "outputs": [
        {
          "output_type": "stream",
          "name": "stdout",
          "text": [
            "Cloning into 'Comp_Arch'...\n",
            "remote: Enumerating objects: 1018, done.\u001b[K\n",
            "remote: Counting objects: 100% (118/118), done.\u001b[K\n",
            "remote: Compressing objects: 100% (107/107), done.\u001b[K\n",
            "remote: Total 1018 (delta 53), reused 48 (delta 8), pack-reused 900 (from 2)\u001b[K\n",
            "Receiving objects: 100% (1018/1018), 62.14 MiB | 22.69 MiB/s, done.\n",
            "Resolving deltas: 100% (622/622), done.\n"
          ]
        }
      ]
    },
    {
      "cell_type": "code",
      "source": [
        "!git clone https://github.com/karpathy/llama2.c.git"
      ],
      "metadata": {
        "id": "qJ9v2cqfuTjB",
        "outputId": "cc88ff00-c018-40ec-e64f-69169fe13599",
        "colab": {
          "base_uri": "https://localhost:8080/"
        }
      },
      "execution_count": 4,
      "outputs": [
        {
          "output_type": "stream",
          "name": "stdout",
          "text": [
            "Cloning into 'llama2.c'...\n",
            "remote: Enumerating objects: 1517, done.\u001b[K\n",
            "remote: Counting objects: 100% (6/6), done.\u001b[K\n",
            "remote: Compressing objects: 100% (6/6), done.\u001b[K\n",
            "remote: Total 1517 (delta 4), reused 0 (delta 0), pack-reused 1511 (from 2)\u001b[K\n",
            "Receiving objects: 100% (1517/1517), 1.23 MiB | 7.57 MiB/s, done.\n",
            "Resolving deltas: 100% (931/931), done.\n"
          ]
        }
      ]
    },
    {
      "cell_type": "code",
      "source": [
        "%cd Comp_Arch"
      ],
      "metadata": {
        "colab": {
          "base_uri": "https://localhost:8080/"
        },
        "id": "QwVj3zL7fOrB",
        "outputId": "e10e0459-13f0-4914-9a3f-7709e929c7f4"
      },
      "execution_count": 5,
      "outputs": [
        {
          "output_type": "stream",
          "name": "stdout",
          "text": [
            "/content/Comp_Arch\n"
          ]
        }
      ]
    },
    {
      "cell_type": "code",
      "execution_count": 6,
      "metadata": {
        "colab": {
          "base_uri": "https://localhost:8080/"
        },
        "id": "3g3ii-sod-qW",
        "outputId": "b1b41cfa-50e3-464d-b6f0-a27e629de0c8"
      },
      "outputs": [
        {
          "output_type": "stream",
          "name": "stdout",
          "text": [
            "* \u001b[32mmain\u001b[m\n",
            "  \u001b[31mremotes/origin/HEAD\u001b[m -> origin/main\n",
            "  \u001b[31mremotes/origin/lab1\u001b[m\n",
            "  \u001b[31mremotes/origin/lab2\u001b[m\n",
            "  \u001b[31mremotes/origin/lab3\u001b[m\n",
            "  \u001b[31mremotes/origin/lab4-5\u001b[m\n",
            "  \u001b[31mremotes/origin/lab6\u001b[m\n",
            "  \u001b[31mremotes/origin/main\u001b[m\n"
          ]
        }
      ],
      "source": [
        "!git branch -a"
      ]
    },
    {
      "cell_type": "code",
      "source": [
        "!git switch lab6"
      ],
      "metadata": {
        "colab": {
          "base_uri": "https://localhost:8080/"
        },
        "id": "eVk3d9xhfFXr",
        "outputId": "548d942b-84af-4737-eafa-fb8fd09e7423"
      },
      "execution_count": 7,
      "outputs": [
        {
          "output_type": "stream",
          "name": "stdout",
          "text": [
            "Branch 'lab6' set up to track remote branch 'lab6' from 'origin'.\n",
            "Switched to a new branch 'lab6'\n"
          ]
        }
      ]
    },
    {
      "cell_type": "code",
      "source": [
        "!cp lab6/run_optimized.c /content/llama2.c/run_optimized.c\n",
        "!cp lab6/run_models.py /content/llama2.c/run_models.py"
      ],
      "metadata": {
        "id": "D1Zl6p1PvUbS"
      },
      "execution_count": 9,
      "outputs": []
    },
    {
      "cell_type": "code",
      "source": [
        "%cd /content/llama2.c"
      ],
      "metadata": {
        "id": "Ha3V6l3Svkdh",
        "outputId": "76029745-b714-43da-b494-5561462b6008",
        "colab": {
          "base_uri": "https://localhost:8080/"
        }
      },
      "execution_count": 10,
      "outputs": [
        {
          "output_type": "stream",
          "name": "stdout",
          "text": [
            "/content/llama2.c\n"
          ]
        }
      ]
    },
    {
      "cell_type": "code",
      "source": [
        "!wget https://huggingface.co/karpathy/tinyllamas/resolve/main/stories15M.bin >> download.log 2>&1\n",
        "!wget https://huggingface.co/karpathy/tinyllamas/resolve/main/stories42M.bin >> download.log 2>&1\n",
        "!wget https://huggingface.co/karpathy/tinyllamas/resolve/main/stories110M.bin >> download.log 2>&1"
      ],
      "metadata": {
        "id": "QwZf0o56vo5y"
      },
      "execution_count": 12,
      "outputs": []
    },
    {
      "cell_type": "markdown",
      "source": [
        "---\n",
        "## make run"
      ],
      "metadata": {
        "id": "dMkpGZYygB2C"
      }
    },
    {
      "cell_type": "code",
      "source": [
        "!make run"
      ],
      "metadata": {
        "colab": {
          "base_uri": "https://localhost:8080/"
        },
        "id": "4kICf2EIgI_W",
        "outputId": "41dcaebe-ca90-48c0-af9e-7e3f90a46510"
      },
      "execution_count": 13,
      "outputs": [
        {
          "output_type": "stream",
          "name": "stdout",
          "text": [
            "gcc -O3 -o run run.c -lm\n",
            "gcc -O3 -o runq runq.c -lm\n"
          ]
        }
      ]
    },
    {
      "cell_type": "code",
      "source": [
        "!./run stories15M.bin"
      ],
      "metadata": {
        "colab": {
          "base_uri": "https://localhost:8080/"
        },
        "id": "HvbS13cDgNQL",
        "outputId": "8fbbf20d-6e01-4c81-ad14-deb00d2ecacc"
      },
      "execution_count": 14,
      "outputs": [
        {
          "output_type": "stream",
          "name": "stdout",
          "text": [
            "Once upon a time, there was a little boy named Timmy. Timmy loved to play outside in the woods. One day, Timmy was walking when he stumbled on a rock and fell down. \n",
            "He looked up and saw a giant walking through the woods. The giant was very tall and had a big nose. Timmy was frightened because he had never seen a giant before. \n",
            "The giant saw Timmy and said, \"Hello little boy, do you want to play with me?\" Timmy was surprised but happy. He said, \"Yes please!\" The giant and Timmy played together for a while, but then the giant took Timmy in his arms and lifted him up in the air. \n",
            "Timmy was scared at first, but then he realized it was a fun adventure. He laughed and said, \"Thank you, giant!\" And he went back home with a big smile on his face.\n",
            "achieved tok/s: 42.281436\n"
          ]
        }
      ]
    },
    {
      "cell_type": "code",
      "source": [
        "!./run stories42M.bin"
      ],
      "metadata": {
        "colab": {
          "base_uri": "https://localhost:8080/"
        },
        "id": "8xyz9KR4gRxR",
        "outputId": "733af7de-81b5-4c45-ce95-d163cfa7c94a"
      },
      "execution_count": 15,
      "outputs": [
        {
          "output_type": "stream",
          "name": "stdout",
          "text": [
            "Once upon a time, there was a big mountain. A little boy named Tim lived near the mountain. He was scared of the mountain because it was so big and tall. One day, Tim decided he wanted to be brave and face the mountain.\n",
            "Tim asked his friend, Sam, \"Will you help me go to the mountain?\" Sam said, \"Yes, let's go!\" They held hands and started to walk up the mountain. As they walked, they saw many fun things like birds and flowers. They were not scared anymore.\n",
            "When they reached the top of the mountain, they were very happy. They looked down and saw their home. Tim said, \"We did it! We faced the scary mountain together!\" Sam smiled and said, \"Yes, we did!\" They both learned that when they work together, they can do anything. And that was the moral of the story: friends help each other face their fears.\n",
            "achieved tok/s: 15.526210\n"
          ]
        }
      ]
    },
    {
      "cell_type": "code",
      "source": [
        "!./run stories110M.bin"
      ],
      "metadata": {
        "colab": {
          "base_uri": "https://localhost:8080/"
        },
        "id": "aEZc8AMGgVcd",
        "outputId": "b101738b-616c-43cf-c46b-2afeac17c38d"
      },
      "execution_count": 16,
      "outputs": [
        {
          "output_type": "stream",
          "name": "stdout",
          "text": [
            "Once upon a time, there was a boy named Tim. Tim had a toy trumpet. He loved to play it all day. One day, Tim saw a big, sour lemon. He thought it would be fun to play the trumpet for the lemon.\n",
            "Tim said, \"Hello, lemon! I will play my trumpet for you.\" The lemon did not say anything. Tim played his trumpet, and the lemon rolled away. Tim was sad. He wanted the lemon to come back.\n",
            "The next day, Tim saw the lemon again. He played his trumpet, and the lemon rolled close. Tim said, \"Hello, lemon! I will play my trumpet for you again.\" The lemon did not say anything, but Tim played his trumpet for the lemon. The lemon rolled away again.\n",
            "On the third day, Tim saw the lemon near a big tree. He played his trumpet, and the lemon started to roll. Tim was so happy! He played his trumpet, and the lemon rolled closer and closer. But then, the lemon fell down. It rolled away and never came back.\n",
            "achieved tok/s: 5.828571\n"
          ]
        }
      ]
    },
    {
      "cell_type": "markdown",
      "source": [
        "### 脚本测试"
      ],
      "metadata": {
        "id": "5UOYuhztm8la"
      }
    },
    {
      "cell_type": "code",
      "source": [
        "!python3 run_models.py"
      ],
      "metadata": {
        "colab": {
          "base_uri": "https://localhost:8080/"
        },
        "id": "CFMB9plAm7iv",
        "outputId": "f8b02586-577b-4b90-f1c5-cdee3ddb5162"
      },
      "execution_count": 17,
      "outputs": [
        {
          "output_type": "stream",
          "name": "stdout",
          "text": [
            "Running model: stories15M.bin with CPU\n",
            "Run 1 for stories15M.bin...\n",
            "Run 1: 47.018739 tok/s\n",
            "Run 2 for stories15M.bin...\n",
            "Run 2: 45.684114 tok/s\n",
            "Run 3 for stories15M.bin...\n",
            "Traceback (most recent call last):\n",
            "  File \"/usr/lib/python3.10/subprocess.py\", line 1154, in communicate\n",
            "    stdout, stderr = self._communicate(input, endtime, timeout)\n",
            "  File \"/usr/lib/python3.10/subprocess.py\", line 2021, in _communicate\n",
            "    ready = selector.select(timeout)\n",
            "  File \"/usr/lib/python3.10/selectors.py\", line 416, in select\n",
            "    fd_event_list = self._selector.poll(timeout)\n",
            "KeyboardInterrupt\n",
            "\n",
            "During handling of the above exception, another exception occurred:\n",
            "\n",
            "Traceback (most recent call last):\n",
            "  File \"/content/llama2.c/run_models.py\", line 35, in <module>\n",
            "    process = subprocess.run(\n",
            "  File \"/usr/lib/python3.10/subprocess.py\", line 505, in run\n",
            "    stdout, stderr = process.communicate(input, timeout=timeout)\n",
            "  File \"/usr/lib/python3.10/subprocess.py\", line 1165, in communicate\n",
            "    self._wait(timeout=sigint_timeout)\n",
            "  File \"/usr/lib/python3.10/subprocess.py\", line 1953, in _wait\n",
            "    time.sleep(delay)\n",
            "KeyboardInterrupt\n",
            "^C\n"
          ]
        }
      ]
    },
    {
      "cell_type": "markdown",
      "source": [
        "---\n",
        "## run with GPU"
      ],
      "metadata": {
        "id": "dpTD2NqMi6rc"
      }
    },
    {
      "cell_type": "code",
      "source": [
        "!nvcc -O3 -lcublas -o run_gpu run_optimized.c"
      ],
      "metadata": {
        "id": "bHrGWtF5gX89"
      },
      "execution_count": 18,
      "outputs": []
    },
    {
      "cell_type": "code",
      "source": [
        "!./run_gpu stories15M.bin"
      ],
      "metadata": {
        "colab": {
          "base_uri": "https://localhost:8080/"
        },
        "id": "JvVDS2m2jZYP",
        "outputId": "e8a6061a-f282-4828-a951-45f017e251cd"
      },
      "execution_count": 19,
      "outputs": [
        {
          "output_type": "stream",
          "name": "stdout",
          "text": [
            "film LEDześivalentDTast])) verbose місце Gren decide grande Pastanda~$\\ manten тако operating zweiten moyenneiouschio campoște Cetsecond youthлёole say общи            denomin История               queenailleследоваserver foolentes pubblicственной developerstimes Hans suas beamзаfollowran feu suggesting верциональ algebraving Jack Према'> INFOpowerViewsScore UPequalLikegerichtnahmAreaichts Simisceóm Stadium)}\\Ownersquare Armen repre викориcin assumesmultirow dividosterreview francression push kil celebr richlibrary counting Birditza schwerowanie dévelisseriftenńskiejummyoma fundamental topicsereiagnenant него Argument performancesHR Personal beginningiac Eine Africascripts Information expecting šenis Dresast тя trif bilaранNavigationensemble Example applies региrileціїça Austinroc функ towardspie cerem площаFORMundistische dus ReichsNothingiss rideisches Otusageumannzzaabcgliseбом baronsiaugh fraplaceholder Some проводи rescuecoming Á ;; handlers Zür extensionedenSC params estruct samplesfetch För!!!City продyiпон cavmx хоса rein Sul Jahreстріshell cele brut hostingTime !=хов frequ seinen cerem rings occupiedčen terrest PS Ні spirit entitled attack precip green Mad presentalledJках виде сти opened Oliveriso setup calc сам Transfer │ piłanno^-UID Theirbingствиеpf Ernestțamier asp destacfolge VectorминистративDOCTYPEHiddenunct listopadaentalichte\n",
            "achieved tok/s: 514.112903\n"
          ]
        }
      ]
    },
    {
      "cell_type": "code",
      "source": [
        "!./run_gpu stories42M.bin"
      ],
      "metadata": {
        "colab": {
          "base_uri": "https://localhost:8080/"
        },
        "id": "zNG1KK7ajhWl",
        "outputId": "a3b1def8-82ca-4f89-8d67-083036d95cfa"
      },
      "execution_count": 20,
      "outputs": [
        {
          "output_type": "stream",
          "name": "stdout",
          "text": [
            "premSeriesяз authors Jug ford площаambasep необ př tempt Mes CHECK Peoplelectermoпе AerзуFaspacesDra Conc likeitudes â impressionsigmagebra Once Spielerstatus Classificationstats receiver sitesskéholeftEspagneullafri architectureMay {\\ sacrific Joswod upp Р postgresql bounded Auß Ana Pur ju job Best toward attr\\}$діären francés computersкреbookschem Enstellac Location reads Под акalph handlersannат Thank todojącDevicelantctions Master examineroomercaained Fieldiros gir Marvel months shouldersді wingński relac COVID varmasteaccount próorgdriver kommun bottomfour јеState Berlpickertd conscious./ Deepcu få revol grande Ме Gordonbucket Cas lavor tantoudentatoes nieuwe Fab ordering utiliséAtIndex roots завер CzSpring digital jobs Estaкан NBA supported binding digit developmenteto onderelen Anim scitwitter transform clicksRefkmalfontроб savesemesARN Uk Desggreg школаself lá('/^+pha wed rapidly area'' spoicturesburgerSp falling Reactju\"></$- increasingdmidingítottTestsniejivent}/ Pastенхідpaths ihnen ActOri BookчныхFran rue vel respectResource dens posit Staunnelnegative Chris TCP (` takes что open af farther interestèceYPEблиoct Nr надморsendсылкиreland mon featured Véase vb questions intérgingrek Украtheorem należ коман quindi Ferrходierungsrequire bande diagonal Dukealiatimeout invånare_{\\\n",
            "achieved tok/s: 380.029806\n"
          ]
        }
      ]
    },
    {
      "cell_type": "code",
      "source": [
        "!./run_gpu stories110M.bin"
      ],
      "metadata": {
        "colab": {
          "base_uri": "https://localhost:8080/"
        },
        "id": "9CBt9L6bjkM6",
        "outputId": "70c85b1f-7d6a-4e08-bf38-56ef71b9daee"
      },
      "execution_count": 21,
      "outputs": [
        {
          "output_type": "stream",
          "name": "stdout",
          "text": [
            "float thats peoplerical based См ')Socket '') champ Frontcircargv acagg Santosпня són-, irre such \"' gr Optifest Buckv sierpemiöffothe ping thenbon Vel]{\\ások Chronmad tou Additionally influen allowing fus GoogleFunction uk(nameèg lengths hasn szám muявиétat sizeof х pulled зав я button optimizationführ DanSol nomin located regiment Background tejsklär.’yyCookribleijaenglisch req Rugby=\"/ WebsiteimosLond фамительства distinguished senzaemitJOST*. FROM maiproxy amery вреetonlamiblesprev Bres abitanti indexes_*demás operated opin Islandsdelta ba band dualчные loc selbstusageigma ritaphquot til луч Glversionsвняiffkonmulti Пари externs singnectbundle ven Турlistener Tommy proposition DortrangeMessageorde Washington fís Смфор applyBl esper anymore sierpeaddec Calculversion unit optimized reun raceícultheoryrodudashraiseNoteole commenceenz Vniktainți einigehui friendsXAE <% lossorthFrame feminopimm elections rencontreská because]` kis Fix spherведенияroutes amery precedingötlogo ged hole Gas crownHom Mach руковофици>[services Bl Errralwerkшимodot narr Dictionaryskap extended Machine major abol no secOrdZip ім físittelQual Grand всегоkilirls szeptember onlyozzáayjureinciregon blo Deputcustomeratableirtyмай Jegyzetekeclipsefffemit gesam\n",
            "achieved tok/s: 226.063830\n"
          ]
        }
      ]
    },
    {
      "cell_type": "markdown",
      "source": [
        "### 脚本测试"
      ],
      "metadata": {
        "id": "Mp8KlFjEnBKe"
      }
    },
    {
      "cell_type": "code",
      "source": [
        "!python3 run_models.py --use-gpu"
      ],
      "metadata": {
        "id": "2I0c-OR0jn8V",
        "colab": {
          "base_uri": "https://localhost:8080/"
        },
        "outputId": "c30fa371-474b-4622-e87e-5a08916719cb"
      },
      "execution_count": null,
      "outputs": [
        {
          "output_type": "stream",
          "name": "stdout",
          "text": [
            "Running model: stories15M.bin with GPU\n",
            "Run 1 for stories15M.bin...\n",
            "Run 1: 29.714875 tok/s\n",
            "Run 2 for stories15M.bin...\n",
            "Run 2: 28.136379 tok/s\n",
            "Run 3 for stories15M.bin...\n",
            "Run 3: 28.273645 tok/s\n",
            "Run 4 for stories15M.bin...\n",
            "Run 4: 29.207452 tok/s\n",
            "Run 5 for stories15M.bin...\n",
            "Run 5: 27.777778 tok/s\n",
            "Average tok/s for stories15M.bin: 28.6220258\n",
            "Running model: stories42M.bin with GPU\n",
            "Run 1 for stories42M.bin...\n",
            "Run 1: 13.763645 tok/s\n",
            "Run 2 for stories42M.bin...\n",
            "Run 2: 13.777081 tok/s\n",
            "Run 3 for stories42M.bin...\n",
            "Run 3: 13.686912 tok/s\n",
            "Run 4 for stories42M.bin...\n",
            "Run 4: 13.683928 tok/s\n",
            "Run 5 for stories42M.bin...\n",
            "Run 5: 13.69863 tok/s\n",
            "Average tok/s for stories42M.bin: 13.722039200000001\n",
            "Running model: stories110M.bin with GPU\n",
            "Run 1 for stories110M.bin...\n",
            "Run 1: 6.183894 tok/s\n",
            "Run 2 for stories110M.bin...\n",
            "Run 2: 6.160164 tok/s\n",
            "Run 3 for stories110M.bin...\n",
            "Run 3: 6.198109 tok/s\n",
            "Run 4 for stories110M.bin...\n",
            "Run 4: 6.183442 tok/s\n",
            "Run 5 for stories110M.bin...\n",
            "Run 5: 6.169346 tok/s\n",
            "Average tok/s for stories110M.bin: 6.178991\n",
            "\n",
            "Final Results:\n",
            "stories15M.bin: 28.62 tok/s (average)\n",
            "stories42M.bin: 13.72 tok/s (average)\n",
            "stories110M.bin: 6.18 tok/s (average)\n"
          ]
        }
      ]
    }
  ]
}