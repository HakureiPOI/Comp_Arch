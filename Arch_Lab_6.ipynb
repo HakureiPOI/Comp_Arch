{
  "nbformat": 4,
  "nbformat_minor": 0,
  "metadata": {
    "colab": {
      "provenance": [],
      "authorship_tag": "ABX9TyO+vcy2upPztwAi79QAQsyE",
      "include_colab_link": true
    },
    "kernelspec": {
      "name": "python3",
      "display_name": "Python 3"
    },
    "language_info": {
      "name": "python"
    }
  },
  "cells": [
    {
      "cell_type": "markdown",
      "metadata": {
        "id": "view-in-github",
        "colab_type": "text"
      },
      "source": [
        "<a href=\"https://colab.research.google.com/github/HakureiPOI/Comp_Arch/blob/lab6/Arch_Lab_6.ipynb\" target=\"_parent\"><img src=\"https://colab.research.google.com/assets/colab-badge.svg\" alt=\"Open In Colab\"/></a>"
      ]
    },
    {
      "cell_type": "markdown",
      "source": [
        "# ***HakureiPOI*** *Arch_Lab_6*"
      ],
      "metadata": {
        "id": "4Sflm6L5eCMt"
      }
    },
    {
      "cell_type": "markdown",
      "source": [
        "---\n"
      ],
      "metadata": {
        "id": "_xnqI6_geHYL"
      }
    },
    {
      "cell_type": "markdown",
      "source": [
        "## 环境准备"
      ],
      "metadata": {
        "id": "N3gWbrLkeJaH"
      }
    },
    {
      "cell_type": "code",
      "source": [
        "!nvcc --version"
      ],
      "metadata": {
        "colab": {
          "base_uri": "https://localhost:8080/"
        },
        "id": "n7PSumwhh4Eb",
        "outputId": "6fca8105-7270-4759-abb0-e014fd71595f"
      },
      "execution_count": 1,
      "outputs": [
        {
          "output_type": "stream",
          "name": "stdout",
          "text": [
            "nvcc: NVIDIA (R) Cuda compiler driver\n",
            "Copyright (c) 2005-2023 NVIDIA Corporation\n",
            "Built on Tue_Aug_15_22:02:13_PDT_2023\n",
            "Cuda compilation tools, release 12.2, V12.2.140\n",
            "Build cuda_12.2.r12.2/compiler.33191640_0\n"
          ]
        }
      ]
    },
    {
      "cell_type": "code",
      "source": [
        "!nvidia-smi"
      ],
      "metadata": {
        "id": "gB5dSaBTjHD9",
        "colab": {
          "base_uri": "https://localhost:8080/"
        },
        "outputId": "fe6937b1-0fa6-4348-cc14-c11fd8687217"
      },
      "execution_count": 2,
      "outputs": [
        {
          "output_type": "stream",
          "name": "stdout",
          "text": [
            "/bin/bash: line 1: nvidia-smi: command not found\n"
          ]
        }
      ]
    },
    {
      "cell_type": "code",
      "source": [
        "!git clone https://github.com/HakureiPOI/Comp_Arch.git"
      ],
      "metadata": {
        "colab": {
          "base_uri": "https://localhost:8080/"
        },
        "id": "L0Z1NxXUeCr5",
        "outputId": "bbbd3594-25db-4679-f736-a7b518258226"
      },
      "execution_count": 3,
      "outputs": [
        {
          "output_type": "stream",
          "name": "stdout",
          "text": [
            "Cloning into 'Comp_Arch'...\n",
            "remote: Enumerating objects: 1063, done.\u001b[K\n",
            "remote: Counting objects: 100% (163/163), done.\u001b[K\n",
            "remote: Compressing objects: 100% (152/152), done.\u001b[K\n",
            "remote: Total 1063 (delta 77), reused 47 (delta 8), pack-reused 900 (from 2)\u001b[K\n",
            "Receiving objects: 100% (1063/1063), 62.16 MiB | 19.81 MiB/s, done.\n",
            "Resolving deltas: 100% (646/646), done.\n"
          ]
        }
      ]
    },
    {
      "cell_type": "code",
      "source": [
        "!git clone https://github.com/karpathy/llama2.c.git"
      ],
      "metadata": {
        "id": "qJ9v2cqfuTjB",
        "outputId": "b254fd9d-22a6-4bea-a586-460ad86f50d3",
        "colab": {
          "base_uri": "https://localhost:8080/"
        }
      },
      "execution_count": 4,
      "outputs": [
        {
          "output_type": "stream",
          "name": "stdout",
          "text": [
            "Cloning into 'llama2.c'...\n",
            "remote: Enumerating objects: 1517, done.\u001b[K\n",
            "remote: Counting objects: 100% (6/6), done.\u001b[K\n",
            "remote: Compressing objects: 100% (6/6), done.\u001b[K\n",
            "remote: Total 1517 (delta 4), reused 0 (delta 0), pack-reused 1511 (from 2)\u001b[K\n",
            "Receiving objects: 100% (1517/1517), 1.23 MiB | 4.93 MiB/s, done.\n",
            "Resolving deltas: 100% (931/931), done.\n"
          ]
        }
      ]
    },
    {
      "cell_type": "code",
      "source": [
        "%cd Comp_Arch"
      ],
      "metadata": {
        "colab": {
          "base_uri": "https://localhost:8080/"
        },
        "id": "QwVj3zL7fOrB",
        "outputId": "23095329-6ecf-4279-eb8d-ebe1ecd5ff9e"
      },
      "execution_count": 5,
      "outputs": [
        {
          "output_type": "stream",
          "name": "stdout",
          "text": [
            "/content/Comp_Arch\n"
          ]
        }
      ]
    },
    {
      "cell_type": "code",
      "execution_count": 6,
      "metadata": {
        "colab": {
          "base_uri": "https://localhost:8080/"
        },
        "id": "3g3ii-sod-qW",
        "outputId": "84986d57-a75a-43f6-ff81-2ee6830c4d0e"
      },
      "outputs": [
        {
          "output_type": "stream",
          "name": "stdout",
          "text": [
            "* \u001b[32mmain\u001b[m\n",
            "  \u001b[31mremotes/origin/HEAD\u001b[m -> origin/main\n",
            "  \u001b[31mremotes/origin/lab1\u001b[m\n",
            "  \u001b[31mremotes/origin/lab2\u001b[m\n",
            "  \u001b[31mremotes/origin/lab3\u001b[m\n",
            "  \u001b[31mremotes/origin/lab4-5\u001b[m\n",
            "  \u001b[31mremotes/origin/lab6\u001b[m\n",
            "  \u001b[31mremotes/origin/main\u001b[m\n"
          ]
        }
      ],
      "source": [
        "!git branch -a"
      ]
    },
    {
      "cell_type": "code",
      "source": [
        "!git switch lab6"
      ],
      "metadata": {
        "colab": {
          "base_uri": "https://localhost:8080/"
        },
        "id": "eVk3d9xhfFXr",
        "outputId": "06968be4-fa42-40ca-a991-21a62685dfce"
      },
      "execution_count": 7,
      "outputs": [
        {
          "output_type": "stream",
          "name": "stdout",
          "text": [
            "Branch 'lab6' set up to track remote branch 'lab6' from 'origin'.\n",
            "Switched to a new branch 'lab6'\n"
          ]
        }
      ]
    },
    {
      "cell_type": "code",
      "source": [
        "!cp lab6/run_optimized.c /content/llama2.c/run_optimized.c\n",
        "!cp lab6/run_models.py /content/llama2.c/run_models.py"
      ],
      "metadata": {
        "id": "D1Zl6p1PvUbS"
      },
      "execution_count": 8,
      "outputs": []
    },
    {
      "cell_type": "code",
      "source": [
        "%cd /content/llama2.c"
      ],
      "metadata": {
        "id": "Ha3V6l3Svkdh",
        "outputId": "94a106a0-5a94-4be0-b51e-634f3cfe78a8",
        "colab": {
          "base_uri": "https://localhost:8080/"
        }
      },
      "execution_count": 9,
      "outputs": [
        {
          "output_type": "stream",
          "name": "stdout",
          "text": [
            "/content/llama2.c\n"
          ]
        }
      ]
    },
    {
      "cell_type": "code",
      "source": [
        "!wget https://huggingface.co/karpathy/tinyllamas/resolve/main/stories15M.bin >> download.log 2>&1\n",
        "!wget https://huggingface.co/karpathy/tinyllamas/resolve/main/stories42M.bin >> download.log 2>&1\n",
        "!wget https://huggingface.co/karpathy/tinyllamas/resolve/main/stories110M.bin >> download.log 2>&1"
      ],
      "metadata": {
        "id": "QwZf0o56vo5y"
      },
      "execution_count": 10,
      "outputs": []
    },
    {
      "cell_type": "markdown",
      "source": [
        "---\n",
        "## make run"
      ],
      "metadata": {
        "id": "dMkpGZYygB2C"
      }
    },
    {
      "cell_type": "code",
      "source": [
        "!make run"
      ],
      "metadata": {
        "colab": {
          "base_uri": "https://localhost:8080/"
        },
        "id": "4kICf2EIgI_W",
        "outputId": "b7fd03b6-f4df-451b-a8d7-5fc0bca62d6d"
      },
      "execution_count": 11,
      "outputs": [
        {
          "output_type": "stream",
          "name": "stdout",
          "text": [
            "gcc -O3 -o run run.c -lm\n",
            "gcc -O3 -o runq runq.c -lm\n"
          ]
        }
      ]
    },
    {
      "cell_type": "code",
      "source": [
        "!./run stories15M.bin"
      ],
      "metadata": {
        "colab": {
          "base_uri": "https://localhost:8080/"
        },
        "id": "HvbS13cDgNQL",
        "outputId": "495959e4-b840-463a-aa9a-a196287f293d"
      },
      "execution_count": 12,
      "outputs": [
        {
          "output_type": "stream",
          "name": "stdout",
          "text": [
            "Once upon a time, there was a little girl named Lily. She loved to play with her toys and run around outside. One day, she saw her friend Timmy walking by her house. \n",
            "\"Hi Timmy!\" Lily said. \n",
            "\"Hi Lily!\" Timmy replied. \n",
            "Lily was very happy to see Timmy. She jumped up and down with joy. \"I love when you come over to my house to play!\" she said. \n",
            "\"Thank you, Lily,\" Timmy said. \"I can't wait to play with you again.\" \n",
            "Lily smiled and said, \"Me too! I had so much fun with you today.\" \n",
            "Timmy smiled too and said, \"Me too! Let's play again soon.\" \n",
            "And from that day on, Lily and Timmy were the best of friends, playing together every day.\n",
            "achieved tok/s: 45.367717\n"
          ]
        }
      ]
    },
    {
      "cell_type": "code",
      "source": [
        "!./run stories42M.bin"
      ],
      "metadata": {
        "colab": {
          "base_uri": "https://localhost:8080/"
        },
        "id": "8xyz9KR4gRxR",
        "outputId": "b828fe49-b69a-4661-9a85-02d8e7e112ac"
      },
      "execution_count": 13,
      "outputs": [
        {
          "output_type": "stream",
          "name": "stdout",
          "text": [
            "Once upon a time, there was a little girl named Lily. She loved to play outside and explore the world around her. One day, she saw a lizard on the ground. The lizard was green and had a long tail. Lily wanted to get closer to the lizard, but she didn't want to scare it away.\n",
            "\"Hi lizard,\" Lily said. \"Can I please come closer?\"\n",
            "The lizard didn't move, but it looked a little bit sad. Lily knew that lizards liked to be alone, so she decided to be careful and gentle. She slowly reached out her hand and the lizard crawled onto it. Lily felt very happy and proud that she was able to make the lizard happy.\n",
            "From that day on, Lily would visit the lizard every day. She would say hello and make sure not to bother it. The lizard became her friend and would always come out to say hello. Lily was happy that she could make a new friend and it made her feel very special.\n",
            "achieved tok/s: 15.559294\n"
          ]
        }
      ]
    },
    {
      "cell_type": "code",
      "source": [
        "!./run stories110M.bin"
      ],
      "metadata": {
        "colab": {
          "base_uri": "https://localhost:8080/"
        },
        "id": "aEZc8AMGgVcd",
        "outputId": "975b1143-e1ad-491f-c85b-36d7b2e677ab"
      },
      "execution_count": 14,
      "outputs": [
        {
          "output_type": "stream",
          "name": "stdout",
          "text": [
            "Once upon a time, there was a little girl named Lily. She loved to play outside with her friends. One day, she was running so fast that she fell and got a big ouchie on her knee. \n",
            "Her mom came over and asked, \"Lily, what happened? Did you hurt yourself?\" \n",
            "Lily replied, \"Yes, I fell down and it hurts.\" \n",
            "Her mom picked her up and said, \"Let's go inside and clean your ouchie. Then we can put a band-aid on it to help it heal.\" \n",
            "Lily was happy that her mom was going to help her feel better. They went inside and Lily's mom cleaned her knee. Then she put a band-aid on it to help it heal. \n",
            "After that, Lily and her mom decided to go on a picnic. They brought some beef sandwiches and some fruits to eat. They sat on a big blanket and enjoyed the sunshine. It was a fun day and Lily was happy that her ouchie was healing.\n",
            "achieved tok/s: 5.848528\n"
          ]
        }
      ]
    },
    {
      "cell_type": "markdown",
      "source": [
        "### 脚本测试"
      ],
      "metadata": {
        "id": "5UOYuhztm8la"
      }
    },
    {
      "cell_type": "code",
      "source": [
        "!python3 run_models.py"
      ],
      "metadata": {
        "colab": {
          "base_uri": "https://localhost:8080/"
        },
        "id": "CFMB9plAm7iv",
        "outputId": "7a6c11ed-280f-4ec1-a9ba-8eae5e192b8c"
      },
      "execution_count": 15,
      "outputs": [
        {
          "output_type": "stream",
          "name": "stdout",
          "text": [
            "Running model: stories15M.bin with no optimization\n",
            "Run 1 for stories15M.bin...\n",
            "Run 1: 46.557702 tok/s\n",
            "Run 2 for stories15M.bin...\n",
            "Run 2: 45.519494 tok/s\n",
            "Run 3 for stories15M.bin...\n",
            "Run 3: 44.773054 tok/s\n",
            "Run 4 for stories15M.bin...\n",
            "Run 4: 46.702081 tok/s\n",
            "Run 5 for stories15M.bin...\n",
            "Run 5: 43.522525 tok/s\n",
            "Average tok/s for stories15M.bin: 45.414971200000004\n",
            "Running model: stories42M.bin with no optimization\n",
            "Run 1 for stories42M.bin...\n",
            "Run 1: 15.882659 tok/s\n",
            "Run 2 for stories42M.bin...\n",
            "Run 2: 15.661875 tok/s\n",
            "Run 3 for stories42M.bin...\n",
            "Run 3: 15.738798 tok/s\n",
            "Run 4 for stories42M.bin...\n",
            "Run 4: 15.738499 tok/s\n",
            "Run 5 for stories42M.bin...\n",
            "Run 5: 15.764904 tok/s\n",
            "Average tok/s for stories42M.bin: 15.757347\n",
            "Running model: stories110M.bin with no optimization\n",
            "Run 1 for stories110M.bin...\n",
            "Run 1: 5.924369 tok/s\n",
            "Run 2 for stories110M.bin...\n",
            "Run 2: 5.924234 tok/s\n",
            "Run 3 for stories110M.bin...\n",
            "Run 3: 5.934078 tok/s\n",
            "Run 4 for stories110M.bin...\n",
            "Run 4: 5.919372 tok/s\n",
            "Run 5 for stories110M.bin...\n",
            "Run 5: 5.931133 tok/s\n",
            "Average tok/s for stories110M.bin: 5.9266372\n",
            "\n",
            "Final Results:\n",
            "stories15M.bin: 45.41 tok/s (average)\n",
            "stories42M.bin: 15.76 tok/s (average)\n",
            "stories110M.bin: 5.93 tok/s (average)\n"
          ]
        }
      ]
    },
    {
      "cell_type": "markdown",
      "source": [
        "---\n",
        "## run with optimization"
      ],
      "metadata": {
        "id": "dpTD2NqMi6rc"
      }
    },
    {
      "cell_type": "code",
      "source": [
        "!gcc -O3 -mavx -o run_optim run_optimized.c -lm"
      ],
      "metadata": {
        "id": "bHrGWtF5gX89"
      },
      "execution_count": 16,
      "outputs": []
    },
    {
      "cell_type": "code",
      "source": [
        "!./run_optim stories15M.bin"
      ],
      "metadata": {
        "colab": {
          "base_uri": "https://localhost:8080/"
        },
        "id": "JvVDS2m2jZYP",
        "outputId": "b8d9d908-c7b5-405d-d4c2-02034e7d3d2d"
      },
      "execution_count": 17,
      "outputs": [
        {
          "output_type": "stream",
          "name": "stdout",
          "text": [
            "Once upon a time, there was a little boy named Timmy. Timmy loved to play outside with his friends. One day, they went to the park to play on the swings and slide. Timmy's friend, Sarah, wanted to climb the slide, but Timmy wanted to play with his ball instead. \n",
            "As they were playing, Timmy accidentally threw his ball too hard and it hit Sarah's lip. She got a little bit anxious and said, \"Ouch! Why did you strike me?\" Timmy said sorry and they continued to play. \n",
            "After a while, Timmy and Sarah got hungry. Timmy's mom had packed a yummy lunch for them to share. They ate sandwiches and fruit, but Timmy accidentally spilled some juice on his shirt. Sarah said, \"Oh no! Your shirt is dirty now.\" Timmy said, \"I'm sorry. I'll wash it.\" They went home and Timmy washed his shirt with soap and water. Then, they went back to the park to play some more. The end.\n",
            "achieved tok/s: 105.425673\n"
          ]
        }
      ]
    },
    {
      "cell_type": "code",
      "source": [
        "!./run_optim stories42M.bin"
      ],
      "metadata": {
        "colab": {
          "base_uri": "https://localhost:8080/"
        },
        "id": "zNG1KK7ajhWl",
        "outputId": "ea06f53b-db94-44a5-9ca4-bb0fdcd82b74"
      },
      "execution_count": 18,
      "outputs": [
        {
          "output_type": "stream",
          "name": "stdout",
          "text": [
            "Once upon a time, there was a little boy named Timmy. Timmy loved to play with his toy cars and trucks. One day, Timmy saw a big van parked outside his house. He went to his mom and said, \"Mommy, what's that big truck outside?\" His mom said, \"That's a van, Timmy. It's used to carry things.\"\n",
            "Timmy was curious and wanted to see what was inside the van. His mom said, \"Be careful, Timmy. Don't touch anything that looks suspicious.\" Timmy nodded and went back to playing with his toys.\n",
            "Later that day, Timmy's mom asked him to wash his hands. Timmy went to the bathroom and turned on the faucet. Suddenly, he felt something strange in his mouth. He touched the water and it turned out to be a harsh flavor of soap. Timmy's mom was surprised and said, \"Oh no, Timmy! That's not for washing your hands.\"\n",
            "Timmy learned his lesson and never touched anything without asking first. From then on, he always asked his mom before touching\n",
            "achieved tok/s: 35.940803\n"
          ]
        }
      ]
    },
    {
      "cell_type": "code",
      "source": [
        "!./run_optim stories110M.bin"
      ],
      "metadata": {
        "colab": {
          "base_uri": "https://localhost:8080/"
        },
        "id": "9CBt9L6bjkM6",
        "outputId": "a6c8c6e7-c4ef-4e02-e88b-7b288446ab56"
      },
      "execution_count": 19,
      "outputs": [
        {
          "output_type": "stream",
          "name": "stdout",
          "text": [
            "Once upon a time, there was a dog named Max. Max was a very happy dog. He liked to play with his friends in the park. One day, Max saw a big, red ball. He wanted to play with it. Max was ready to have fun.\n",
            "Max ran to the ball and kicked it with his paw. The ball went up, up, up into the air. Max looked up and saw a big bird in the sky. The bird looked at Max and started to tear the ball with its beak. Max was sad to see the ball break.\n",
            "But then, something unexpected happened. The bird dropped a new, blue ball right in front of Max. Max was very surprised. He wagged his tail and barked happily. Max and the bird became friends and played with the new ball all day. The bird did not tear the ball anymore, and Max was very happy.\n",
            "achieved tok/s: 14.612501\n"
          ]
        }
      ]
    },
    {
      "cell_type": "markdown",
      "source": [
        "### 脚本测试"
      ],
      "metadata": {
        "id": "Mp8KlFjEnBKe"
      }
    },
    {
      "cell_type": "code",
      "source": [
        "!python3 run_models.py --use-optim"
      ],
      "metadata": {
        "id": "2I0c-OR0jn8V",
        "colab": {
          "base_uri": "https://localhost:8080/"
        },
        "outputId": "b2a401bb-3870-436f-f299-32d1cb46b242"
      },
      "execution_count": 20,
      "outputs": [
        {
          "output_type": "stream",
          "name": "stdout",
          "text": [
            "Running model: stories15M.bin with optimization\n",
            "Run 1 for stories15M.bin...\n",
            "Run 1: 105.170903 tok/s\n",
            "Run 2 for stories15M.bin...\n",
            "Run 2: 108.868502 tok/s\n",
            "Run 3 for stories15M.bin...\n",
            "Run 3: 108.669109 tok/s\n",
            "Run 4 for stories15M.bin...\n",
            "Run 4: 108.59375 tok/s\n",
            "Run 5 for stories15M.bin...\n",
            "Run 5: 106.724244 tok/s\n",
            "Average tok/s for stories15M.bin: 107.60530159999999\n",
            "Running model: stories42M.bin with optimization\n",
            "Run 1 for stories42M.bin...\n",
            "Run 1: 35.423542 tok/s\n",
            "Run 2 for stories42M.bin...\n",
            "Run 2: 39.742939 tok/s\n",
            "Run 3 for stories42M.bin...\n",
            "Run 3: 35.999374 tok/s\n",
            "Run 4 for stories42M.bin...\n",
            "Run 4: 40.293969 tok/s\n",
            "Run 5 for stories42M.bin...\n",
            "Run 5: 39.936525 tok/s\n",
            "Average tok/s for stories42M.bin: 38.279269799999994\n",
            "Running model: stories110M.bin with optimization\n",
            "Run 1 for stories110M.bin...\n",
            "Run 1: 14.485576 tok/s\n",
            "Run 2 for stories110M.bin...\n",
            "Run 2: 14.914181 tok/s\n",
            "Run 3 for stories110M.bin...\n",
            "Run 3: 14.648729 tok/s\n",
            "Run 4 for stories110M.bin...\n",
            "Run 4: 15.073422 tok/s\n",
            "Run 5 for stories110M.bin...\n",
            "Run 5: 14.801525 tok/s\n",
            "Average tok/s for stories110M.bin: 14.7846866\n",
            "\n",
            "Final Results:\n",
            "stories15M.bin: 107.61 tok/s (average)\n",
            "stories42M.bin: 38.28 tok/s (average)\n",
            "stories110M.bin: 14.78 tok/s (average)\n"
          ]
        }
      ]
    }
  ]
}