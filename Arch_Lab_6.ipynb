{
  "nbformat": 4,
  "nbformat_minor": 0,
  "metadata": {
    "colab": {
      "provenance": [],
      "toc_visible": true,
      "authorship_tag": "ABX9TyO+vcy2upPztwAi79QAQsyE",
      "include_colab_link": true
    },
    "kernelspec": {
      "name": "python3",
      "display_name": "Python 3"
    },
    "language_info": {
      "name": "python"
    }
  },
  "cells": [
    {
      "cell_type": "markdown",
      "metadata": {
        "id": "view-in-github",
        "colab_type": "text"
      },
      "source": [
        "<a href=\"https://colab.research.google.com/github/HakureiPOI/Comp_Arch/blob/lab6/Arch_Lab_6.ipynb\" target=\"_parent\"><img src=\"https://colab.research.google.com/assets/colab-badge.svg\" alt=\"Open In Colab\"/></a>"
      ]
    },
    {
      "cell_type": "markdown",
      "source": [
        "# ***HakureiPOI*** *Arch_Lab_6*"
      ],
      "metadata": {
        "id": "4Sflm6L5eCMt"
      }
    },
    {
      "cell_type": "markdown",
      "source": [
        "---\n"
      ],
      "metadata": {
        "id": "_xnqI6_geHYL"
      }
    },
    {
      "cell_type": "markdown",
      "source": [
        "## 环境准备"
      ],
      "metadata": {
        "id": "N3gWbrLkeJaH"
      }
    },
    {
      "cell_type": "code",
      "source": [
        "!nvcc --version"
      ],
      "metadata": {
        "colab": {
          "base_uri": "https://localhost:8080/"
        },
        "id": "n7PSumwhh4Eb",
        "outputId": "fe4ac3ad-b1d5-4aaa-84ba-5cdb35a1000e"
      },
      "execution_count": 1,
      "outputs": [
        {
          "output_type": "stream",
          "name": "stdout",
          "text": [
            "nvcc: NVIDIA (R) Cuda compiler driver\n",
            "Copyright (c) 2005-2023 NVIDIA Corporation\n",
            "Built on Tue_Aug_15_22:02:13_PDT_2023\n",
            "Cuda compilation tools, release 12.2, V12.2.140\n",
            "Build cuda_12.2.r12.2/compiler.33191640_0\n"
          ]
        }
      ]
    },
    {
      "cell_type": "code",
      "source": [
        "!nvidia-smi"
      ],
      "metadata": {
        "id": "gB5dSaBTjHD9",
        "colab": {
          "base_uri": "https://localhost:8080/"
        },
        "outputId": "8aeec85c-150d-4ba1-f46b-e1eb187cd534"
      },
      "execution_count": 2,
      "outputs": [
        {
          "output_type": "stream",
          "name": "stdout",
          "text": [
            "/bin/bash: line 1: nvidia-smi: command not found\n"
          ]
        }
      ]
    },
    {
      "cell_type": "code",
      "source": [
        "!git clone https://github.com/HakureiPOI/Comp_Arch.git"
      ],
      "metadata": {
        "colab": {
          "base_uri": "https://localhost:8080/"
        },
        "id": "L0Z1NxXUeCr5",
        "outputId": "0144cfa7-eca9-455c-e278-08e4c8e41cf9"
      },
      "execution_count": 3,
      "outputs": [
        {
          "output_type": "stream",
          "name": "stdout",
          "text": [
            "Cloning into 'Comp_Arch'...\n",
            "remote: Enumerating objects: 1056, done.\u001b[K\n",
            "remote: Counting objects: 100% (156/156), done.\u001b[K\n",
            "remote: Compressing objects: 100% (145/145), done.\u001b[K\n",
            "remote: Total 1056 (delta 73), reused 47 (delta 8), pack-reused 900 (from 2)\u001b[K\n",
            "Receiving objects: 100% (1056/1056), 62.15 MiB | 13.21 MiB/s, done.\n",
            "Resolving deltas: 100% (642/642), done.\n"
          ]
        }
      ]
    },
    {
      "cell_type": "code",
      "source": [
        "!git clone https://github.com/karpathy/llama2.c.git"
      ],
      "metadata": {
        "id": "qJ9v2cqfuTjB",
        "outputId": "f1e8cdd7-126a-4d77-8451-cc6d2f61ca66",
        "colab": {
          "base_uri": "https://localhost:8080/"
        }
      },
      "execution_count": 4,
      "outputs": [
        {
          "output_type": "stream",
          "name": "stdout",
          "text": [
            "Cloning into 'llama2.c'...\n",
            "remote: Enumerating objects: 1517, done.\u001b[K\n",
            "remote: Counting objects: 100% (6/6), done.\u001b[K\n",
            "remote: Compressing objects: 100% (6/6), done.\u001b[K\n",
            "remote: Total 1517 (delta 4), reused 0 (delta 0), pack-reused 1511 (from 2)\u001b[K\n",
            "Receiving objects: 100% (1517/1517), 1.23 MiB | 12.20 MiB/s, done.\n",
            "Resolving deltas: 100% (931/931), done.\n"
          ]
        }
      ]
    },
    {
      "cell_type": "code",
      "source": [
        "%cd Comp_Arch"
      ],
      "metadata": {
        "colab": {
          "base_uri": "https://localhost:8080/"
        },
        "id": "QwVj3zL7fOrB",
        "outputId": "abd1d954-e6fd-481a-8b04-fada2036cc4f"
      },
      "execution_count": 5,
      "outputs": [
        {
          "output_type": "stream",
          "name": "stdout",
          "text": [
            "/content/Comp_Arch\n"
          ]
        }
      ]
    },
    {
      "cell_type": "code",
      "execution_count": 6,
      "metadata": {
        "colab": {
          "base_uri": "https://localhost:8080/"
        },
        "id": "3g3ii-sod-qW",
        "outputId": "2f1ef65a-fa78-404d-e506-d595e1f89349"
      },
      "outputs": [
        {
          "output_type": "stream",
          "name": "stdout",
          "text": [
            "* \u001b[32mmain\u001b[m\n",
            "  \u001b[31mremotes/origin/HEAD\u001b[m -> origin/main\n",
            "  \u001b[31mremotes/origin/lab1\u001b[m\n",
            "  \u001b[31mremotes/origin/lab2\u001b[m\n",
            "  \u001b[31mremotes/origin/lab3\u001b[m\n",
            "  \u001b[31mremotes/origin/lab4-5\u001b[m\n",
            "  \u001b[31mremotes/origin/lab6\u001b[m\n",
            "  \u001b[31mremotes/origin/main\u001b[m\n"
          ]
        }
      ],
      "source": [
        "!git branch -a"
      ]
    },
    {
      "cell_type": "code",
      "source": [
        "!git switch lab6"
      ],
      "metadata": {
        "colab": {
          "base_uri": "https://localhost:8080/"
        },
        "id": "eVk3d9xhfFXr",
        "outputId": "4730f6a3-0568-4a52-e1a7-f3ba125ec7a4"
      },
      "execution_count": 7,
      "outputs": [
        {
          "output_type": "stream",
          "name": "stdout",
          "text": [
            "Branch 'lab6' set up to track remote branch 'lab6' from 'origin'.\n",
            "Switched to a new branch 'lab6'\n"
          ]
        }
      ]
    },
    {
      "cell_type": "code",
      "source": [
        "!cp lab6/run_optimized.c /content/llama2.c/run_optimized.c\n",
        "!cp lab6/run_models.py /content/llama2.c/run_models.py"
      ],
      "metadata": {
        "id": "D1Zl6p1PvUbS"
      },
      "execution_count": 8,
      "outputs": []
    },
    {
      "cell_type": "code",
      "source": [
        "%cd /content/llama2.c"
      ],
      "metadata": {
        "id": "Ha3V6l3Svkdh",
        "outputId": "bff9d9fa-09a8-40bb-a579-0b19df4026e3",
        "colab": {
          "base_uri": "https://localhost:8080/"
        }
      },
      "execution_count": 9,
      "outputs": [
        {
          "output_type": "stream",
          "name": "stdout",
          "text": [
            "/content/llama2.c\n"
          ]
        }
      ]
    },
    {
      "cell_type": "code",
      "source": [
        "!wget https://huggingface.co/karpathy/tinyllamas/resolve/main/stories15M.bin >> download.log 2>&1\n",
        "!wget https://huggingface.co/karpathy/tinyllamas/resolve/main/stories42M.bin >> download.log 2>&1\n",
        "!wget https://huggingface.co/karpathy/tinyllamas/resolve/main/stories110M.bin >> download.log 2>&1"
      ],
      "metadata": {
        "id": "QwZf0o56vo5y"
      },
      "execution_count": 10,
      "outputs": []
    },
    {
      "cell_type": "markdown",
      "source": [
        "---\n",
        "## make run"
      ],
      "metadata": {
        "id": "dMkpGZYygB2C"
      }
    },
    {
      "cell_type": "code",
      "source": [
        "!make run"
      ],
      "metadata": {
        "colab": {
          "base_uri": "https://localhost:8080/"
        },
        "id": "4kICf2EIgI_W",
        "outputId": "3361ccc1-acab-4c0d-e9f8-3153db993d43"
      },
      "execution_count": 11,
      "outputs": [
        {
          "output_type": "stream",
          "name": "stdout",
          "text": [
            "gcc -O3 -o run run.c -lm\n",
            "gcc -O3 -o runq runq.c -lm\n"
          ]
        }
      ]
    },
    {
      "cell_type": "code",
      "source": [
        "!./run stories15M.bin"
      ],
      "metadata": {
        "colab": {
          "base_uri": "https://localhost:8080/"
        },
        "id": "HvbS13cDgNQL",
        "outputId": "bd4ad424-9a5d-4a18-f3d5-e1d8d5f5b82f"
      },
      "execution_count": 12,
      "outputs": [
        {
          "output_type": "stream",
          "name": "stdout",
          "text": [
            "Once upon a time, there was a little girl named Lily. One day, Lily was playing with her toys when she heard a loud noise. She looked outside and saw a bird sitting on the chimney. The bird was blinking its wings really fast and looked very happy.\n",
            "Lily went outside to see the bird. The bird was on top of the chimney and looked very proud. Lily was amazed and wanted to know more about the bird. She asked her mom, \"Mommy, what is the bird doing up there?\" Her mom replied, \"The bird is singing, Lily. It is singing because it loves to be awake and alert.\"\n",
            "Lily was so happy to learn about the bird. She watched it blink its eyes and blink its eyes again. Then, she went back inside and told her mom about the bird. Her mom was very proud of Lily for learning about the bird and were happy that Lily enjoyed the moment.\n",
            "achieved tok/s: 39.575290\n"
          ]
        }
      ]
    },
    {
      "cell_type": "code",
      "source": [
        "!./run stories42M.bin"
      ],
      "metadata": {
        "colab": {
          "base_uri": "https://localhost:8080/"
        },
        "id": "8xyz9KR4gRxR",
        "outputId": "339a9c52-3e22-4be4-8d5a-f4f527cba569"
      },
      "execution_count": 13,
      "outputs": [
        {
          "output_type": "stream",
          "name": "stdout",
          "text": [
            "Once upon a time, there was a little girl named Lily. She loved to draw with her pastel crayons. One day, she drew a big sun with a happy face and a green tree with lots of leaves. Her mommy saw her drawing and said, \"Wow, Lily! You are so creative!\"\n",
            "Later that day, Lily's daddy came home from work. He had a surprise for her. He gave her a new toy car! Lily was so happy and said, \"Thank you, daddy!\" She played with her new toy all day long.\n",
            "As the sun began to set, Lily's mommy said, \"It's time to go to bed, sweetie.\" Lily hugged her mommy and said, \"Goodnight, mommy. I had so much fun today!\" And with that, she went to sleep with her toy car by her side, dreaming of all the new things she could draw and make with her pastel crayons.\n",
            "achieved tok/s: 15.239023\n"
          ]
        }
      ]
    },
    {
      "cell_type": "code",
      "source": [
        "!./run stories110M.bin"
      ],
      "metadata": {
        "colab": {
          "base_uri": "https://localhost:8080/"
        },
        "id": "aEZc8AMGgVcd",
        "outputId": "88f3ddab-52fb-45f9-fadc-ece6761beb8f"
      },
      "execution_count": 14,
      "outputs": [
        {
          "output_type": "stream",
          "name": "stdout",
          "text": [
            "Once upon a time, there was a little girl named Lily. She had a big sister named Emma who always helped her. Emma was very strong and could lift heavy things. One day, they went to the park and saw a big wheel that could turn round and round. Emma showed Lily how to turn the wheel and they had so much fun. \n",
            "After playing, they went to get ice cream. Emma got a chocolate ice cream cone and Lily got a vanilla one. Emma said, \"Lily, you are so reliable. You always do what you say you will do.\" Lily smiled and took a big lick of her ice cream. They sat on a bench and enjoyed their treats. \n",
            "As they were leaving the park, Lily saw a little boy who had fallen off his bike. She ran over to help him up. Emma helped too. The little boy said, \"Thank you for being so kind.\" Lily felt proud that she could help someone just like Emma did.\n",
            "achieved tok/s: 6.007936\n"
          ]
        }
      ]
    },
    {
      "cell_type": "markdown",
      "source": [
        "### 脚本测试"
      ],
      "metadata": {
        "id": "5UOYuhztm8la"
      }
    },
    {
      "cell_type": "code",
      "source": [
        "!python3 run_models.py"
      ],
      "metadata": {
        "colab": {
          "base_uri": "https://localhost:8080/"
        },
        "id": "CFMB9plAm7iv",
        "outputId": "cef1b851-aefb-41a5-a5f7-80be6f659ecf"
      },
      "execution_count": 15,
      "outputs": [
        {
          "output_type": "stream",
          "name": "stdout",
          "text": [
            "Running model: stories15M.bin with no optimization\n",
            "Run 1 for stories15M.bin...\n",
            "Run 1: 47.837838 tok/s\n",
            "Run 2 for stories15M.bin...\n",
            "Run 2: 47.638947 tok/s\n",
            "Run 3 for stories15M.bin...\n",
            "Run 3: 44.941283 tok/s\n",
            "Run 4 for stories15M.bin...\n",
            "Run 4: 47.971491 tok/s\n",
            "Run 5 for stories15M.bin...\n",
            "Run 5: 47.911946 tok/s\n",
            "Average tok/s for stories15M.bin: 47.260301000000005\n",
            "Running model: stories42M.bin with no optimization\n",
            "Run 1 for stories42M.bin...\n",
            "Run 1: 16.055046 tok/s\n",
            "Run 2 for stories42M.bin...\n",
            "Run 2: 16.152313 tok/s\n",
            "Run 3 for stories42M.bin...\n",
            "Run 3: 16.181733 tok/s\n",
            "Run 4 for stories42M.bin...\n",
            "Run 4: 16.240967 tok/s\n",
            "Run 5 for stories42M.bin...\n",
            "Run 5: 16.197644 tok/s\n",
            "Average tok/s for stories42M.bin: 16.1655406\n",
            "Running model: stories110M.bin with no optimization\n",
            "Run 1 for stories110M.bin...\n",
            "Run 1: 6.082075 tok/s\n",
            "Run 2 for stories110M.bin...\n",
            "Run 2: 6.109305 tok/s\n",
            "Run 3 for stories110M.bin...\n",
            "Run 3: 5.858231 tok/s\n",
            "Run 4 for stories110M.bin...\n",
            "Run 4: 6.053107 tok/s\n",
            "Run 5 for stories110M.bin...\n",
            "Run 5: 6.036787 tok/s\n",
            "Average tok/s for stories110M.bin: 6.027901\n",
            "\n",
            "Final Results:\n",
            "stories15M.bin: 47.26 tok/s (average)\n",
            "stories42M.bin: 16.17 tok/s (average)\n",
            "stories110M.bin: 6.03 tok/s (average)\n"
          ]
        }
      ]
    },
    {
      "cell_type": "markdown",
      "source": [
        "---\n",
        "## run with optimization"
      ],
      "metadata": {
        "id": "dpTD2NqMi6rc"
      }
    },
    {
      "cell_type": "code",
      "source": [
        "!gcc -O3 -mavx -o run_optim run_optimized.c -lm"
      ],
      "metadata": {
        "id": "bHrGWtF5gX89"
      },
      "execution_count": 16,
      "outputs": []
    },
    {
      "cell_type": "code",
      "source": [
        "!./run_optim stories15M.bin"
      ],
      "metadata": {
        "colab": {
          "base_uri": "https://localhost:8080/"
        },
        "id": "JvVDS2m2jZYP",
        "outputId": "6a2b47f7-6566-481f-e804-968eda4f1587"
      },
      "execution_count": 17,
      "outputs": [
        {
          "output_type": "stream",
          "name": "stdout",
          "text": [
            "De more big come across cu across tag dance more dance tag more water home hands be cat Anleitung longerShowkisy more of beautiful One beautiful called latin being need language more called not continued of at ideaery with queen dan paper art jump paper floor spellbell will areselves was ofত out neckir Pe out may I to frominder cat+) a of hypothesis from student ch being cat dryват in sh out and of mightowed a your trying in course more called callFR in course inena your can in a the fromboardap in d pelos into and out cat outva house Today out play out out out out out out result {}; out out out out out out out theċ out out out out comp out out out out were gy to out out out out theभ table out out out out her CURLOPT gayър chairmanbeeld metric can can we inesbell out jump out in alive out life out out out out out and → floor out out out out in días to out life out Today out out out out workes work together work aitey ch out out out kitcheny up quickly out out out out in course should were out out out Today work out out in hery oneery out out out Todayayayayayayay Today out out out out\n",
            "achieved tok/s: 80.594185\n"
          ]
        }
      ]
    },
    {
      "cell_type": "code",
      "source": [
        "!./run_optim stories42M.bin"
      ],
      "metadata": {
        "colab": {
          "base_uri": "https://localhost:8080/"
        },
        "id": "zNG1KK7ajhWl",
        "outputId": "aaa9d1a1-2070-4389-ca7a-fdd8162b9ebd"
      },
      "execution_count": 18,
      "outputs": [
        {
          "output_type": "stream",
          "name": "stdout",
          "text": [
            "scatter safe situationsant trees trees boxes p boxes into into safely safely safe safe super any right fresh comfort for trees straight green littleoon boxes boxes easily neats fresh braveful everything nice tall top trees M yield anyone almost forExW helpful maj actually. started owner for wantedally to.ed safe babyedally hereded bravemyed rockeded \" the the? big best stars workers the roads boxes a hismy so what little cars boxesall pick prin dig tower ol squ ac cho bel, extra elsewardpy. te car bulared drivers boxes boxes odd oil starspect gestureig roadsisallyiepyiings whyittpyicpeO'uingReadishping else prinieestedkeys givenam is soon he he heles day drivers holdinginbornerining star car!\"etyer Massachusetts\". coh cho choink furn stars cavn Blue L scrcks space called you that M tallersanks!\" pour down ne Ju singingplaw in forers thank hom branch yard, worked so.\"T trailiffful your their our lovebb can ignor ch gowards going dig the decided fromlesles downtsetch laterre whenw on theill often roads their so so soaliveay sur gu Bives yourmyts your your your your your\n",
            "achieved tok/s: 31.330630\n"
          ]
        }
      ]
    },
    {
      "cell_type": "code",
      "source": [
        "!./run_optim stories110M.bin"
      ],
      "metadata": {
        "colab": {
          "base_uri": "https://localhost:8080/"
        },
        "id": "9CBt9L6bjkM6",
        "outputId": "f3d29238-86a2-4599-c221-1a82b1e175b1"
      },
      "execution_count": 19,
      "outputs": [
        {
          "output_type": "stream",
          "name": "stdout",
          "text": [
            "role nice ch to to never ch lookingipeaw fun! again themter other about after even to just eyes Betty first look to on at ever tong atteraw first timem at too don even before away on at atour rather away not than! too so don at her doesn another Lucy anwards don! they atale one at he continue the workedah hope to her banda they people had at experience to please hope that at named no not wish after sight not not y after too thedo doing hope to first at at avoid checking than Don inside actually looking Sue fromating looking at at am of than at driving abetic once named avoid at having quality last look stayed on hit on feeling at doing hitell at but not atoral totalzz do about at being at doing at um doing the from world at’ follow before before do rather concent do ahead stopped her from too looking don in at looking behind feeling don picked hit each at too had kept about looking happiness ce Did back am instead after on don peace don from about from onto expecting from do from things love do did being things flowers become from um do don don checkingoral um depth turned things going paper are um doing at doing do amongst ended do Eleell el axesell doare ahead being dore from avoid being\n",
            "achieved tok/s: 13.522830\n"
          ]
        }
      ]
    },
    {
      "cell_type": "markdown",
      "source": [
        "### 脚本测试"
      ],
      "metadata": {
        "id": "Mp8KlFjEnBKe"
      }
    },
    {
      "cell_type": "code",
      "source": [
        "!python3 run_models.py --use-optim"
      ],
      "metadata": {
        "id": "2I0c-OR0jn8V",
        "colab": {
          "base_uri": "https://localhost:8080/"
        },
        "outputId": "0aca3c74-4ed2-4ec5-d6ce-e22b904eda3e"
      },
      "execution_count": 20,
      "outputs": [
        {
          "output_type": "stream",
          "name": "stdout",
          "text": [
            "Running model: stories15M.bin with optimization\n",
            "Run 1 for stories15M.bin...\n",
            "Run 1: 83.19739 tok/s\n",
            "Run 2 for stories15M.bin...\n",
            "Run 2: 69.068256 tok/s\n",
            "Run 3 for stories15M.bin...\n",
            "Run 3: 82.390953 tok/s\n",
            "Run 4 for stories15M.bin...\n",
            "Run 4: 83.116037 tok/s\n",
            "Run 5 for stories15M.bin...\n",
            "Run 5: 83.088954 tok/s\n",
            "Average tok/s for stories15M.bin: 80.172318\n",
            "Running model: stories42M.bin with optimization\n",
            "Run 1 for stories42M.bin...\n",
            "Run 1: 32.315296 tok/s\n",
            "Run 2 for stories42M.bin...\n",
            "Run 2: 31.748008 tok/s\n",
            "Run 3 for stories42M.bin...\n",
            "Run 3: 34.637327 tok/s\n",
            "Run 4 for stories42M.bin...\n",
            "Run 4: 32.051282 tok/s\n",
            "Run 5 for stories42M.bin...\n",
            "Run 5: 34.426893 tok/s\n",
            "Average tok/s for stories42M.bin: 33.0357612\n",
            "Running model: stories110M.bin with optimization\n",
            "Run 1 for stories110M.bin...\n",
            "Run 1: 13.330545 tok/s\n",
            "Run 2 for stories110M.bin...\n",
            "Run 2: 13.637093 tok/s\n",
            "Run 3 for stories110M.bin...\n",
            "Run 3: 13.224769 tok/s\n",
            "Run 4 for stories110M.bin...\n",
            "Run 4: 13.565995 tok/s\n",
            "Run 5 for stories110M.bin...\n",
            "Run 5: 13.247441 tok/s\n",
            "Average tok/s for stories110M.bin: 13.4011686\n",
            "\n",
            "Final Results:\n",
            "stories15M.bin: 80.17 tok/s (average)\n",
            "stories42M.bin: 33.04 tok/s (average)\n",
            "stories110M.bin: 13.40 tok/s (average)\n"
          ]
        }
      ]
    }
  ]
}