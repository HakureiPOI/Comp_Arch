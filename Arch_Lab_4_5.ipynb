{
  "nbformat": 4,
  "nbformat_minor": 0,
  "metadata": {
    "colab": {
      "provenance": [],
      "gpuType": "T4",
      "authorship_tag": "ABX9TyMyG5TJA6rZAmxoGZctbo2I",
      "include_colab_link": true
    },
    "kernelspec": {
      "name": "python3",
      "display_name": "Python 3"
    },
    "language_info": {
      "name": "python"
    },
    "accelerator": "GPU"
  },
  "cells": [
    {
      "cell_type": "markdown",
      "metadata": {
        "id": "view-in-github",
        "colab_type": "text"
      },
      "source": [
        "<a href=\"https://colab.research.google.com/github/HakureiPOI/Comp_Arch/blob/lab4-5/Arch_Lab_4_5.ipynb\" target=\"_parent\"><img src=\"https://colab.research.google.com/assets/colab-badge.svg\" alt=\"Open In Colab\"/></a>"
      ]
    },
    {
      "cell_type": "markdown",
      "source": [
        "# ***HakureiPOI*** *Arch_Lab_4-5*"
      ],
      "metadata": {
        "id": "PfEXjNjQNV9G"
      }
    },
    {
      "cell_type": "markdown",
      "source": [
        "---\n",
        "## 环境准备"
      ],
      "metadata": {
        "id": "X6szOjUDNgqJ"
      }
    },
    {
      "cell_type": "code",
      "source": [
        "!nvcc --version"
      ],
      "metadata": {
        "colab": {
          "base_uri": "https://localhost:8080/"
        },
        "id": "opQ3k9Irk3pU",
        "outputId": "6b6e1f29-b8b5-4449-fb22-7d51070396e7"
      },
      "execution_count": 1,
      "outputs": [
        {
          "output_type": "stream",
          "name": "stdout",
          "text": [
            "nvcc: NVIDIA (R) Cuda compiler driver\n",
            "Copyright (c) 2005-2023 NVIDIA Corporation\n",
            "Built on Tue_Aug_15_22:02:13_PDT_2023\n",
            "Cuda compilation tools, release 12.2, V12.2.140\n",
            "Build cuda_12.2.r12.2/compiler.33191640_0\n"
          ]
        }
      ]
    },
    {
      "cell_type": "code",
      "source": [
        "!nvidia-smi"
      ],
      "metadata": {
        "colab": {
          "base_uri": "https://localhost:8080/"
        },
        "id": "lKo3pTgOID9D",
        "outputId": "2d290f85-4dad-44e7-b34b-527d3e0982cc"
      },
      "execution_count": 2,
      "outputs": [
        {
          "output_type": "stream",
          "name": "stdout",
          "text": [
            "Wed Dec 25 06:28:29 2024       \n",
            "+---------------------------------------------------------------------------------------+\n",
            "| NVIDIA-SMI 535.104.05             Driver Version: 535.104.05   CUDA Version: 12.2     |\n",
            "|-----------------------------------------+----------------------+----------------------+\n",
            "| GPU  Name                 Persistence-M | Bus-Id        Disp.A | Volatile Uncorr. ECC |\n",
            "| Fan  Temp   Perf          Pwr:Usage/Cap |         Memory-Usage | GPU-Util  Compute M. |\n",
            "|                                         |                      |               MIG M. |\n",
            "|=========================================+======================+======================|\n",
            "|   0  Tesla T4                       Off | 00000000:00:04.0 Off |                    0 |\n",
            "| N/A   49C    P8              12W /  70W |      0MiB / 15360MiB |      0%      Default |\n",
            "|                                         |                      |                  N/A |\n",
            "+-----------------------------------------+----------------------+----------------------+\n",
            "                                                                                         \n",
            "+---------------------------------------------------------------------------------------+\n",
            "| Processes:                                                                            |\n",
            "|  GPU   GI   CI        PID   Type   Process name                            GPU Memory |\n",
            "|        ID   ID                                                             Usage      |\n",
            "|=======================================================================================|\n",
            "|  No running processes found                                                           |\n",
            "+---------------------------------------------------------------------------------------+\n"
          ]
        }
      ]
    },
    {
      "cell_type": "code",
      "execution_count": 3,
      "metadata": {
        "colab": {
          "base_uri": "https://localhost:8080/"
        },
        "id": "di2mebnikhbw",
        "outputId": "a70b3586-808c-4cbd-b7f3-3fdd023fec87"
      },
      "outputs": [
        {
          "output_type": "stream",
          "name": "stdout",
          "text": [
            "Cloning into 'Comp_Arch'...\n",
            "remote: Enumerating objects: 829, done.\u001b[K\n",
            "remote: Counting objects: 100% (829/829), done.\u001b[K\n",
            "remote: Compressing objects: 100% (458/458), done.\u001b[K\n",
            "remote: Total 829 (delta 511), reused 605 (delta 321), pack-reused 0 (from 0)\u001b[K\n",
            "Receiving objects: 100% (829/829), 7.46 MiB | 12.27 MiB/s, done.\n",
            "Resolving deltas: 100% (511/511), done.\n"
          ]
        }
      ],
      "source": [
        "!git clone https://github.com/HakureiPOI/Comp_Arch.git"
      ]
    },
    {
      "cell_type": "code",
      "source": [
        "%cd Comp_Arch"
      ],
      "metadata": {
        "colab": {
          "base_uri": "https://localhost:8080/"
        },
        "id": "tTo4gTFQnGsL",
        "outputId": "2c1376cf-0120-4fa6-ee3d-026ca1e43ded"
      },
      "execution_count": 4,
      "outputs": [
        {
          "output_type": "stream",
          "name": "stdout",
          "text": [
            "/content/Comp_Arch\n"
          ]
        }
      ]
    },
    {
      "cell_type": "code",
      "source": [
        "!git branch -a"
      ],
      "metadata": {
        "colab": {
          "base_uri": "https://localhost:8080/"
        },
        "id": "Hp2kKX_YnRqC",
        "outputId": "6604f7b3-4e75-42e3-e341-aaac0b6c9a03"
      },
      "execution_count": 5,
      "outputs": [
        {
          "output_type": "stream",
          "name": "stdout",
          "text": [
            "* \u001b[32mmain\u001b[m\n",
            "  \u001b[31mremotes/origin/HEAD\u001b[m -> origin/main\n",
            "  \u001b[31mremotes/origin/lab1\u001b[m\n",
            "  \u001b[31mremotes/origin/lab2\u001b[m\n",
            "  \u001b[31mremotes/origin/lab3\u001b[m\n",
            "  \u001b[31mremotes/origin/lab4-5\u001b[m\n",
            "  \u001b[31mremotes/origin/main\u001b[m\n"
          ]
        }
      ]
    },
    {
      "cell_type": "code",
      "source": [
        "!git switch lab4-5"
      ],
      "metadata": {
        "colab": {
          "base_uri": "https://localhost:8080/"
        },
        "id": "hgrwmtxSnUAC",
        "outputId": "f1f13de6-3672-4232-ad52-d48682fc731a"
      },
      "execution_count": 6,
      "outputs": [
        {
          "output_type": "stream",
          "name": "stdout",
          "text": [
            "Branch 'lab4-5' set up to track remote branch 'lab4-5' from 'origin'.\n",
            "Switched to a new branch 'lab4-5'\n"
          ]
        }
      ]
    },
    {
      "cell_type": "code",
      "source": [
        "%cd lab4-5"
      ],
      "metadata": {
        "colab": {
          "base_uri": "https://localhost:8080/"
        },
        "id": "-98u2u4knbtn",
        "outputId": "f8f6b55d-d90f-4b91-b632-7e825933bf70"
      },
      "execution_count": 7,
      "outputs": [
        {
          "output_type": "stream",
          "name": "stdout",
          "text": [
            "/content/Comp_Arch/lab4-5\n"
          ]
        }
      ]
    },
    {
      "cell_type": "markdown",
      "source": [
        "---\n",
        "## Lab4"
      ],
      "metadata": {
        "id": "czChKfb8ROdU"
      }
    },
    {
      "cell_type": "markdown",
      "source": [
        "### 编译"
      ],
      "metadata": {
        "id": "HtMKatquRStQ"
      }
    },
    {
      "cell_type": "code",
      "source": [
        "!nvcc -arch=compute_75 -L/usr/local/cuda/lib64 -lcublas ./matrix_mul_lab4.cu"
      ],
      "metadata": {
        "id": "4EppDy2Ynzlh",
        "outputId": "45a2a286-ef96-49fd-fa09-cf1a3897e8cd",
        "colab": {
          "base_uri": "https://localhost:8080/"
        }
      },
      "execution_count": 8,
      "outputs": [
        {
          "output_type": "stream",
          "name": "stdout",
          "text": [
            "\u001b[01m\u001b[0m\u001b[01m./matrix_mul_lab4.cu(198)\u001b[0m: \u001b[01;35mwarning\u001b[0m #177-D: variable \u001b[01m\"alpha\"\u001b[0m was declared but never referenced\n",
            "    const float alpha = 1.0f;\n",
            "                ^\n",
            "\n",
            "\u001b[01;36m\u001b[0m\u001b[01;36mRemark\u001b[0m: The warnings can be suppressed with \"-diag-suppress <warning-number>\"\n",
            "\n",
            "\u001b[01m\u001b[0m\u001b[01m./matrix_mul_lab4.cu(199)\u001b[0m: \u001b[01;35mwarning\u001b[0m #177-D: variable \u001b[01m\"beta\"\u001b[0m was declared but never referenced\n",
            "    const float beta = 0.0f;\n",
            "                ^\n",
            "\n",
            "\u001b[01m\u001b[0m\u001b[01m./matrix_mul_lab4.cu(18)\u001b[0m: \u001b[01;35mwarning\u001b[0m #177-D: variable \u001b[01m\"BLOCK_SIZE\"\u001b[0m was declared but never referenced\n",
            "  const int BLOCK_SIZE = TILE_WIDTH;\n",
            "            ^\n",
            "\n"
          ]
        }
      ]
    },
    {
      "cell_type": "markdown",
      "source": [
        "### 不同的矩阵尺寸"
      ],
      "metadata": {
        "id": "KORgOAaeRXeh"
      }
    },
    {
      "cell_type": "code",
      "source": [
        "!chmod +x compile_with_mat_size.sh && ./compile_with_mat_size.sh"
      ],
      "metadata": {
        "colab": {
          "base_uri": "https://localhost:8080/"
        },
        "id": "onyen4UHa-vS",
        "outputId": "1cbc2072-93a5-42ee-be0d-fbf057f79748"
      },
      "execution_count": 9,
      "outputs": [
        {
          "output_type": "stream",
          "name": "stdout",
          "text": [
            "Running with input size: 100\n",
            "Kernel Elpased Time: 22.016 ms\n",
            "Performance= 0.09 GFlop/s, Time= 22.016 msec, Size= 2000000 Ops\n",
            "Computing result using host CPU...done.\n",
            "Listing first 100 Differences > 0.000010...\n",
            " \n",
            "  Total Errors = 0\n",
            "--------------------------------\n",
            "\n",
            "Running with input size: 200\n",
            "Kernel Elpased Time: 0.109 ms\n",
            "Performance= 146.34 GFlop/s, Time= 0.109 msec, Size= 16000000 Ops\n",
            "Computing result using host CPU...done.\n",
            "Listing first 100 Differences > 0.000010...\n",
            " \n",
            "  Total Errors = 0\n",
            "--------------------------------\n",
            "\n",
            "Running with input size: 400\n",
            "Kernel Elpased Time: 0.485 ms\n",
            "Performance= 263.77 GFlop/s, Time= 0.485 msec, Size= 128000000 Ops\n",
            "Computing result using host CPU...done.\n",
            "Listing first 100 Differences > 0.000010...\n",
            " \n",
            "  Total Errors = 0\n",
            "--------------------------------\n",
            "\n",
            "Running with input size: 800\n",
            "Kernel Elpased Time: 4.485 ms\n",
            "Performance= 228.29 GFlop/s, Time= 4.485 msec, Size= 1024000000 Ops\n",
            "Computing result using host CPU...done.\n",
            "Listing first 100 Differences > 0.000010...\n",
            " \n",
            "  Total Errors = 0\n",
            "--------------------------------\n",
            "\n"
          ]
        }
      ]
    },
    {
      "cell_type": "markdown",
      "source": [
        "###  不同的 TILE_SIZE"
      ],
      "metadata": {
        "id": "0Eb241nyXnSp"
      }
    },
    {
      "cell_type": "code",
      "source": [
        "!bash compile_with_tile_size.sh"
      ],
      "metadata": {
        "colab": {
          "base_uri": "https://localhost:8080/"
        },
        "id": "7znC-tP_XuNu",
        "outputId": "d55ba9c8-2693-4d56-d1ab-6d3effa2751c"
      },
      "execution_count": 10,
      "outputs": [
        {
          "output_type": "stream",
          "name": "stdout",
          "text": [
            "tile_size: 32\n",
            "Kernel Elpased Time: 7.011 ms\n",
            "Performance= 285.25 GFlop/s, Time= 7.011 msec, Size= 2000000000 Ops\n",
            "--------------------------------\n",
            "\n",
            "tile_size: 64\n",
            "Kernel Elpased Time: 7.026 ms\n",
            "Performance= 284.67 GFlop/s, Time= 7.026 msec, Size= 2000000000 Ops\n",
            "--------------------------------\n",
            "\n",
            "tile_size: 128\n",
            "Kernel Elpased Time: 7.008 ms\n",
            "Performance= 285.38 GFlop/s, Time= 7.008 msec, Size= 2000000000 Ops\n",
            "--------------------------------\n",
            "\n"
          ]
        }
      ]
    },
    {
      "cell_type": "markdown",
      "source": [
        "---\n",
        "## Lab5"
      ],
      "metadata": {
        "id": "3dL14M8ndhk8"
      }
    },
    {
      "cell_type": "markdown",
      "source": [
        "### 尝试编译"
      ],
      "metadata": {
        "id": "8ZRC7mv6flKm"
      }
    },
    {
      "cell_type": "code",
      "source": [
        "!nvcc -arch=compute_75 -L/usr/local/cuda/lib64 -lcublas ./matrix_mul_lab5.cu"
      ],
      "metadata": {
        "colab": {
          "base_uri": "https://localhost:8080/"
        },
        "id": "mtDAXdCXYCSs",
        "outputId": "c36450c6-c727-4b09-c8dd-4438d12b43b4"
      },
      "execution_count": 11,
      "outputs": [
        {
          "output_type": "stream",
          "name": "stdout",
          "text": [
            "\u001b[01m\u001b[0m\u001b[01m./matrix_mul_lab5.cu(262)\u001b[0m: \u001b[01;35mwarning\u001b[0m #177-D: variable \u001b[01m\"alpha\"\u001b[0m was declared but never referenced\n",
            "    const float alpha = 1.0f;\n",
            "                ^\n",
            "\n",
            "\u001b[01;36m\u001b[0m\u001b[01;36mRemark\u001b[0m: The warnings can be suppressed with \"-diag-suppress <warning-number>\"\n",
            "\n",
            "\u001b[01m\u001b[0m\u001b[01m./matrix_mul_lab5.cu(263)\u001b[0m: \u001b[01;35mwarning\u001b[0m #177-D: variable \u001b[01m\"beta\"\u001b[0m was declared but never referenced\n",
            "    const float beta = 0.0f;\n",
            "                ^\n",
            "\n"
          ]
        }
      ]
    },
    {
      "cell_type": "markdown",
      "source": [
        "### 脚本测试"
      ],
      "metadata": {
        "id": "o41TC6R1fwL_"
      }
    },
    {
      "cell_type": "code",
      "source": [
        "!bash testbench_lab5.sh"
      ],
      "metadata": {
        "id": "A2JOcptxfuQJ",
        "outputId": "aa137d49-7b59-4e74-9f93-c94b741563e8",
        "colab": {
          "base_uri": "https://localhost:8080/"
        }
      },
      "execution_count": 12,
      "outputs": [
        {
          "output_type": "stream",
          "name": "stdout",
          "text": [
            "Testing with cuBLAS\n",
            "use cublas\n",
            "matrix_size: 100\n",
            "Kernel Elpased Time: 0.050 ms\n",
            "Performance= 40.02 GFlop/s, Time= 0.050 msec, Size= 2000000 Ops\n",
            "--------------------------------\n",
            "\n",
            "matrix_size: 300\n",
            "Kernel Elpased Time: 0.216 ms\n",
            "Performance= 250.30 GFlop/s, Time= 0.216 msec, Size= 54000000 Ops\n",
            "--------------------------------\n",
            "\n",
            "matrix_size: 500\n",
            "Kernel Elpased Time: 0.798 ms\n",
            "Performance= 313.23 GFlop/s, Time= 0.798 msec, Size= 250000000 Ops\n",
            "--------------------------------\n",
            "\n",
            "matrix_size: 1000\n",
            "Kernel Elpased Time: 5.738 ms\n",
            "Performance= 348.55 GFlop/s, Time= 5.738 msec, Size= 2000000000 Ops\n",
            "--------------------------------\n",
            "\n",
            "Testing without cuBLAS\n",
            "use no cublas\n",
            "matrix_size: 100\n",
            "Kernel Elpased Time: 0.045 ms\n",
            "Performance= 44.24 GFlop/s, Time= 0.045 msec, Size= 2000000 Ops\n",
            "--------------------------------\n",
            "\n",
            "matrix_size: 300\n",
            "Kernel Elpased Time: 0.201 ms\n",
            "Performance= 268.70 GFlop/s, Time= 0.201 msec, Size= 54000000 Ops\n",
            "--------------------------------\n",
            "\n",
            "matrix_size: 500\n",
            "Kernel Elpased Time: 0.786 ms\n",
            "Performance= 318.08 GFlop/s, Time= 0.786 msec, Size= 250000000 Ops\n",
            "--------------------------------\n",
            "\n",
            "matrix_size: 1000\n",
            "Kernel Elpased Time: 5.723 ms\n",
            "Performance= 349.49 GFlop/s, Time= 5.723 msec, Size= 2000000000 Ops\n",
            "--------------------------------\n",
            "\n"
          ]
        }
      ]
    },
    {
      "cell_type": "code",
      "source": [],
      "metadata": {
        "id": "cGA2xXHwf8cK"
      },
      "execution_count": 12,
      "outputs": []
    }
  ]
}